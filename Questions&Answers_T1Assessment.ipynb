{
  "nbformat": 4,
  "nbformat_minor": 0,
  "metadata": {
    "colab": {
      "provenance": [],
      "authorship_tag": "ABX9TyOUSrLKRnaanpMfsRJAsiw4",
      "include_colab_link": true
    },
    "kernelspec": {
      "name": "python3",
      "display_name": "Python 3"
    },
    "language_info": {
      "name": "python"
    }
  },
  "cells": [
    {
      "cell_type": "markdown",
      "metadata": {
        "id": "view-in-github",
        "colab_type": "text"
      },
      "source": [
        "<a href=\"https://colab.research.google.com/github/kynokee/Computing_T1Assessment/blob/main/Questions%26Answers_T1Assessment.ipynb\" target=\"_parent\"><img src=\"https://colab.research.google.com/assets/colab-badge.svg\" alt=\"Open In Colab\"/></a>"
      ]
    },
    {
      "cell_type": "markdown",
      "source": [
        "# Linear Search Qn"
      ],
      "metadata": {
        "id": "vM29jm0yfO2i"
      }
    },
    {
      "cell_type": "markdown",
      "source": [
        "You are given a dictionary but it is not in alphabetical order.  \n",
        "Your friend wants you to help them find the position of a word in this weird dictionary.  \n",
        "Write a code using linear search to find the word."
      ],
      "metadata": {
        "id": "BoP6yBs4i7uy"
      }
    },
    {
      "cell_type": "code",
      "source": [
        "weird_dictionary = [\"Lollygag\", \"Bibble\", \"Kerfuffle\", \"Dawdle\", \"Whippersnapper\", \"Gobbledygook\"]\n",
        "\n",
        "# linear search function (for loop)\n",
        "\n",
        "# linear search function (while loop)\n",
        "\n",
        "\n",
        "# main\n",
        "print(linear_search(weird_dictionary, \"Bibble\")) # returns 1\n",
        "print(linear_search(weird_dictionary, \"Cattywampus\")) # returns 'Not Found'"
      ],
      "metadata": {
        "id": "XBC_LsBLfrh7"
      },
      "execution_count": null,
      "outputs": []
    },
    {
      "cell_type": "markdown",
      "source": [
        "When should we use/ not use linear search?"
      ],
      "metadata": {
        "id": "9t_pjIdHiqRo"
      }
    },
    {
      "cell_type": "markdown",
      "source": [
        "# Linear Search Ans"
      ],
      "metadata": {
        "id": "vfKxNd26i-A1"
      }
    },
    {
      "cell_type": "code",
      "source": [
        "weird_dictionary = [\"Lollygag\", \"Bibble\", \"Kerfuffle\", \"Dawdle\", \"Whippersnapper\", \"Gobbledygook\"]\n",
        "\n",
        "# linear search function (for loop)\n",
        "def linear_search(A, target):\n",
        "  for i in range(len(A)):\n",
        "    if A[i] == target:\n",
        "      return i\n",
        "  return 'Not found'\n",
        "\n",
        "# linear search function (while loop)\n",
        "def linear_search(A, target):\n",
        "  i = 0\n",
        "  while i < len(A):\n",
        "    if A[i] == target:\n",
        "      return i\n",
        "    i += 1\n",
        "  return 'Not found'\n",
        "\n",
        "# main\n",
        "print(linear_search(weird_dictionary, \"Bibble\")) # returns 1\n",
        "print(linear_search(weird_dictionary, \"Cattywampus\")) # returns 'Not Found'"
      ],
      "metadata": {
        "colab": {
          "base_uri": "https://localhost:8080/"
        },
        "id": "faMyj3X9jArh",
        "outputId": "d2095988-c8e6-4245-e532-182fe94b350c"
      },
      "execution_count": null,
      "outputs": [
        {
          "output_type": "stream",
          "name": "stdout",
          "text": [
            "1\n",
            "Not found\n"
          ]
        }
      ]
    },
    {
      "cell_type": "markdown",
      "source": [
        "Linear search should be used on a small list, or in an unordered list."
      ],
      "metadata": {
        "id": "d13y5J3XjTRa"
      }
    },
    {
      "cell_type": "markdown",
      "source": [
        "# Binary Search Qn"
      ],
      "metadata": {
        "id": "U2mLzGFAjeBC"
      }
    },
    {
      "cell_type": "markdown",
      "source": [
        "You have a large list that contains all your friends’ birthdays and name in the format [birthday, name]  \n",
        "You have one name for each day of the year and your format for birthday is the number of day of the year. (eg. Jan 1 would be the 1st day of the year.)  \n",
        "You want to automate finding their name so you know who to greet.  \n",
        "Find your friend’s name using binary search so you do not need to keep finding the name of a different friend every day."
      ],
      "metadata": {
        "id": "28QTqAkXjg_I"
      }
    },
    {
      "cell_type": "code",
      "source": [
        "# # prompt: generate a list containing [birthday, name] where birthday ranges from 1-365 and name is a random name and each is unique\n",
        "\n",
        "# import random\n",
        "\n",
        "# # Generate a list of random names\n",
        "# names = []\n",
        "# for _ in range(365):\n",
        "#   names.append(''.join(random.choices('abcdefghijklmnopqrstuvwxyz', k=random.randint(5, 10))))\n",
        "\n",
        "# # Generate a list of birthdays\n",
        "# birthdays = list(range(1, 366))\n",
        "\n",
        "# # Combine birthdays and names into a list of [birthday, name] pairs\n",
        "# friends_birthdays = []\n",
        "# for i in range(365):\n",
        "#   friends_birthdays.append([birthdays[i], names[i]])\n",
        "\n",
        "# print(friends_birthdays)"
      ],
      "metadata": {
        "colab": {
          "base_uri": "https://localhost:8080/"
        },
        "id": "_oHO4KWBjf-S",
        "outputId": "96757573-55dc-4521-9410-c3142fa4043c"
      },
      "execution_count": null,
      "outputs": [
        {
          "output_type": "stream",
          "name": "stdout",
          "text": [
            "[[1, 'hgiqcfrx'], [2, 'qdgnjq'], [3, 'ccapqtzz'], [4, 'rkuzghw'], [5, 'rxwoutwg'], [6, 'azymqzdusk'], [7, 'xcpxnwe'], [8, 'fydfxjgh'], [9, 'ywodzi'], [10, 'vmbfasxu'], [11, 'yorml'], [12, 'vsmcthhdo'], [13, 'lambip'], [14, 'kizml'], [15, 'uxqqc'], [16, 'ukvoinpqgz'], [17, 'jiwcp'], [18, 'eqmpjqwx'], [19, 'atyzioaez'], [20, 'tkkfmh'], [21, 'wxpfdkdhjy'], [22, 'jloszqgqsy'], [23, 'spicd'], [24, 'utlhjew'], [25, 'hhkmwiyy'], [26, 'gstmn'], [27, 'ozsrpch'], [28, 'wnrxnvujco'], [29, 'etpgfcwq'], [30, 'reipn'], [31, 'ngpvzmj'], [32, 'tnnxrqx'], [33, 'jnoutwo'], [34, 'gwlvegtmj'], [35, 'vjejao'], [36, 'wgmhwd'], [37, 'mstqmngt'], [38, 'cnabtm'], [39, 'lqfgar'], [40, 'leanvtorl'], [41, 'vrnghwdszs'], [42, 'fjfrmvyi'], [43, 'irnop'], [44, 'unfqqwxg'], [45, 'gkjyawrlx'], [46, 'sdvqb'], [47, 'ikferxlxtz'], [48, 'epoquaag'], [49, 'dlsffbh'], [50, 'pturj'], [51, 'vpguqng'], [52, 'yfpcnghrh'], [53, 'zvjwatwcr'], [54, 'tocot'], [55, 'vnxskntqzw'], [56, 'otfpegcib'], [57, 'qlzoyecqu'], [58, 'jsztvqo'], [59, 'xuqairl'], [60, 'zgvhcips'], [61, 'bftguabgag'], [62, 'pipkqraeqg'], [63, 'bopywrf'], [64, 'ryrcafnh'], [65, 'xcwtvt'], [66, 'aluhatrndb'], [67, 'qgxbyoyjn'], [68, 'ukpiofcly'], [69, 'xtzxemura'], [70, 'sfpyhg'], [71, 'pelfut'], [72, 'nntqy'], [73, 'prmjegucv'], [74, 'jtloeeky'], [75, 'eoghuuupc'], [76, 'yckevpf'], [77, 'kxzxw'], [78, 'kbfdwxsl'], [79, 'rowsl'], [80, 'qzlrxg'], [81, 'iujdeus'], [82, 'dfbpqcty'], [83, 'hhoymv'], [84, 'znrmaaemk'], [85, 'nscnvojxaa'], [86, 'inuvdrpzc'], [87, 'ugzdqbfs'], [88, 'atzpphkbs'], [89, 'ukckxmuzm'], [90, 'aljdwmw'], [91, 'xbbmphreek'], [92, 'bdqlywemya'], [93, 'nskypgqr'], [94, 'khqtryvt'], [95, 'nygpvzbksr'], [96, 'itfelmsgv'], [97, 'ieedns'], [98, 'lhlcec'], [99, 'cirshaiu'], [100, 'vfbnyekb'], [101, 'wujqsywn'], [102, 'thvkqnrl'], [103, 'qzlnphs'], [104, 'tvgogniphn'], [105, 'fdcdzo'], [106, 'heecpun'], [107, 'xyqyy'], [108, 'bbobvwhe'], [109, 'ghmuls'], [110, 'symqljjfo'], [111, 'mkgzmryco'], [112, 'ivpzw'], [113, 'gagiqqeu'], [114, 'oyjnnqwa'], [115, 'fwipy'], [116, 'hvwwsaaol'], [117, 'jvouxcyzw'], [118, 'kkmfitaom'], [119, 'revywzfwn'], [120, 'ourihgkmzz'], [121, 'flnmrvh'], [122, 'pefebhmwzx'], [123, 'gfblnsjg'], [124, 'alrzpcrhb'], [125, 'ygevpbswva'], [126, 'gvjeods'], [127, 'ccvkorbop'], [128, 'fzmguqxk'], [129, 'uomflfspl'], [130, 'qnnpqdj'], [131, 'emfyyivpp'], [132, 'boyyy'], [133, 'amjgm'], [134, 'ozwfjd'], [135, 'puopqgmqrb'], [136, 'jonqcuwbb'], [137, 'etgmig'], [138, 'cclan'], [139, 'nsdncul'], [140, 'dxdbtkaeef'], [141, 'zojin'], [142, 'grcrtixh'], [143, 'zdfsal'], [144, 'puyemwloqs'], [145, 'rslyk'], [146, 'uaflkuj'], [147, 'ijqvox'], [148, 'xiakusklxo'], [149, 'pqayddsfq'], [150, 'pggfewsn'], [151, 'gesqtsiv'], [152, 'huorjkuzs'], [153, 'qirgm'], [154, 'zpkghvhhhc'], [155, 'kgoat'], [156, 'nujaglfzgw'], [157, 'wkawjxta'], [158, 'tqlxvfdbtd'], [159, 'hwwgl'], [160, 'dexkmtjcyb'], [161, 'tpykdz'], [162, 'ezacmgaidx'], [163, 'rdiftpyts'], [164, 'fxrgr'], [165, 'ndmhsdke'], [166, 'pzosx'], [167, 'tnrkii'], [168, 'ofpkolyra'], [169, 'geqovlidw'], [170, 'znhyx'], [171, 'hgrjrq'], [172, 'lqspdxfqyp'], [173, 'vdfekwy'], [174, 'fyygfrcoat'], [175, 'dfdkvx'], [176, 'oekdnm'], [177, 'aoujidls'], [178, 'wwignt'], [179, 'xjydhahfg'], [180, 'oknujyqko'], [181, 'jyjehll'], [182, 'htuxmbxjk'], [183, 'ditit'], [184, 'dvguroh'], [185, 'mszjllldf'], [186, 'llwwze'], [187, 'ldklolg'], [188, 'xbfdrfzdq'], [189, 'ngymkmjzk'], [190, 'purvzffj'], [191, 'vatzbrhhgb'], [192, 'yaozpdwoob'], [193, 'twbxfk'], [194, 'xefhnca'], [195, 'fseagzmyq'], [196, 'rdvkp'], [197, 'hjsauzfo'], [198, 'ulxjx'], [199, 'uynpq'], [200, 'rhamd'], [201, 'ehgzkx'], [202, 'hswbycurkw'], [203, 'tusui'], [204, 'yfvslioy'], [205, 'udkvxbxnkt'], [206, 'ozcksaqf'], [207, 'yjvtad'], [208, 'gjcosxf'], [209, 'uufqgjq'], [210, 'shwwjmxn'], [211, 'wlsokusgy'], [212, 'fnwho'], [213, 'dzrhkwkp'], [214, 'gcdmdtquby'], [215, 'mrupbadu'], [216, 'pqgdvj'], [217, 'zpbwssca'], [218, 'pfdnnoin'], [219, 'iibhejltln'], [220, 'ldkjp'], [221, 'pqczpw'], [222, 'qhqgnf'], [223, 'oequuiqlkl'], [224, 'ktedhltixx'], [225, 'oaevc'], [226, 'enxhgezj'], [227, 'iogimzxlz'], [228, 'jvbcjmezpp'], [229, 'gvzml'], [230, 'okqoxwdmp'], [231, 'vbtiraew'], [232, 'zkmfevfa'], [233, 'zzjqnwvzoe'], [234, 'itgnmaqbrl'], [235, 'dofjjn'], [236, 'ohtmfk'], [237, 'vqdfnl'], [238, 'tbwgbo'], [239, 'fcrcqv'], [240, 'vyjnmkxd'], [241, 'xhopb'], [242, 'tbfnh'], [243, 'qxaahobrqu'], [244, 'rslxbk'], [245, 'ffpsr'], [246, 'lexgpw'], [247, 'jfhqeteqco'], [248, 'sgpzqgvop'], [249, 'atvnh'], [250, 'aqlns'], [251, 'bffutckome'], [252, 'ozymm'], [253, 'fakjcez'], [254, 'cedzikcecd'], [255, 'oiegmbs'], [256, 'eablonmw'], [257, 'fetrdgzy'], [258, 'bqckvifq'], [259, 'llylrpmm'], [260, 'yzpwpmqqqr'], [261, 'feoyj'], [262, 'dheef'], [263, 'gsbpb'], [264, 'ylgcuqn'], [265, 'hzzruxt'], [266, 'agtzn'], [267, 'fadxbc'], [268, 'cwwkoguec'], [269, 'loavth'], [270, 'ckuxpoqwtl'], [271, 'jdcia'], [272, 'etaomopl'], [273, 'jjnknowv'], [274, 'fwyzhupisu'], [275, 'vnsqej'], [276, 'desbsmnim'], [277, 'yovzsylmyf'], [278, 'jmqnn'], [279, 'zlitv'], [280, 'ffeebcieyw'], [281, 'owkxq'], [282, 'zmjbxhdfay'], [283, 'ussna'], [284, 'ivpbze'], [285, 'iogwtvlrwc'], [286, 'vxgutumshl'], [287, 'xrxwxr'], [288, 'xcksuatbig'], [289, 'hxpgtjehv'], [290, 'rmwiqi'], [291, 'pvdiv'], [292, 'jsyceut'], [293, 'dizdbqcm'], [294, 'ainqismtny'], [295, 'tszesgg'], [296, 'xrcpggj'], [297, 'ahazqtit'], [298, 'poomuwkcr'], [299, 'hhnui'], [300, 'motrsmhmsf'], [301, 'brnaj'], [302, 'bxorpfhhnl'], [303, 'qwilfondyl'], [304, 'mvfjk'], [305, 'jiypm'], [306, 'wnckm'], [307, 'hyexj'], [308, 'fveovwdzkb'], [309, 'hafagcifyf'], [310, 'turgnfdice'], [311, 'sjmbq'], [312, 'lclnq'], [313, 'jqrettt'], [314, 'ukidbsn'], [315, 'bpxjwcobja'], [316, 'kyepoflhav'], [317, 'rlicrxdk'], [318, 'vfppwbi'], [319, 'zwlepf'], [320, 'lvaeq'], [321, 'uryeo'], [322, 'ohqje'], [323, 'cniowa'], [324, 'bvubwz'], [325, 'envakjaayx'], [326, 'entcqkkxm'], [327, 'xnttfqio'], [328, 'dzzwnfw'], [329, 'lxczbjroim'], [330, 'yzlszwuo'], [331, 'huqxrxt'], [332, 'nczppoqvq'], [333, 'cvepwdqlar'], [334, 'uekcqbbibq'], [335, 'oacbnmnv'], [336, 'xozcalikqx'], [337, 'fakjabr'], [338, 'djatzcgj'], [339, 'lgnzdum'], [340, 'zepti'], [341, 'wkqvrk'], [342, 'kkhzzc'], [343, 'mrcgsrh'], [344, 'pffenbkhr'], [345, 'hvvvjfjpwb'], [346, 'pnivvvsyo'], [347, 'jdacrnapgu'], [348, 'phfyg'], [349, 'mhwiu'], [350, 'zpfrjlc'], [351, 'znqana'], [352, 'jpdjjwonw'], [353, 'uxstany'], [354, 'jxqvaqf'], [355, 'udeuwz'], [356, 'qtlztag'], [357, 'wjdutf'], [358, 'aslarbas'], [359, 'iblfobkf'], [360, 'jxmyv'], [361, 'hchai'], [362, 'yvodwpk'], [363, 'pfbkkn'], [364, 'isqqby'], [365, 'bleaeyepd']]\n"
          ]
        }
      ]
    },
    {
      "cell_type": "code",
      "source": [
        "friends_birthdays = [[1, 'hgiqcfrx'], [2, 'qdgnjq'], [3, 'ccapqtzz'], [4, 'rkuzghw'], [5, 'rxwoutwg'], [6, 'azymqzdusk'], [7, 'xcpxnwe'], [8, 'fydfxjgh'], [9, 'ywodzi'], [10, 'vmbfasxu'], [11, 'yorml'], [12, 'vsmcthhdo'], [13, 'lambip'], [14, 'kizml'], [15, 'uxqqc'], [16, 'ukvoinpqgz'], [17, 'jiwcp'], [18, 'eqmpjqwx'], [19, 'atyzioaez'], [20, 'tkkfmh'], [21, 'wxpfdkdhjy'], [22, 'jloszqgqsy'], [23, 'spicd'], [24, 'utlhjew'], [25, 'hhkmwiyy'], [26, 'gstmn'], [27, 'ozsrpch'], [28, 'wnrxnvujco'], [29, 'etpgfcwq'], [30, 'reipn'], [31, 'ngpvzmj'], [32, 'tnnxrqx'], [33, 'jnoutwo'], [34, 'gwlvegtmj'], [35, 'vjejao'], [36, 'wgmhwd'], [37, 'mstqmngt'], [38, 'cnabtm'], [39, 'lqfgar'], [40, 'leanvtorl'], [41, 'vrnghwdszs'], [42, 'fjfrmvyi'], [43, 'irnop'], [44, 'unfqqwxg'], [45, 'gkjyawrlx'], [46, 'sdvqb'], [47, 'ikferxlxtz'], [48, 'epoquaag'], [49, 'dlsffbh'], [50, 'pturj'], [51, 'vpguqng'], [52, 'yfpcnghrh'], [53, 'zvjwatwcr'], [54, 'tocot'], [55, 'vnxskntqzw'], [56, 'otfpegcib'], [57, 'qlzoyecqu'], [58, 'jsztvqo'], [59, 'xuqairl'], [60, 'zgvhcips'], [61, 'bftguabgag'], [62, 'pipkqraeqg'], [63, 'bopywrf'], [64, 'ryrcafnh'], [65, 'xcwtvt'], [66, 'aluhatrndb'], [67, 'qgxbyoyjn'], [68, 'ukpiofcly'], [69, 'xtzxemura'], [70, 'sfpyhg'], [71, 'pelfut'], [72, 'nntqy'], [73, 'prmjegucv'], [74, 'jtloeeky'], [75, 'eoghuuupc'], [76, 'yckevpf'], [77, 'kxzxw'], [78, 'kbfdwxsl'], [79, 'rowsl'], [80, 'qzlrxg'], [81, 'iujdeus'], [82, 'dfbpqcty'], [83, 'hhoymv'], [84, 'znrmaaemk'], [85, 'nscnvojxaa'], [86, 'inuvdrpzc'], [87, 'ugzdqbfs'], [88, 'atzpphkbs'], [89, 'ukckxmuzm'], [90, 'aljdwmw'], [91, 'xbbmphreek'], [92, 'bdqlywemya'], [93, 'nskypgqr'], [94, 'khqtryvt'], [95, 'nygpvzbksr'], [96, 'itfelmsgv'], [97, 'ieedns'], [98, 'lhlcec'], [99, 'cirshaiu'], [100, 'vfbnyekb'], [101, 'wujqsywn'], [102, 'thvkqnrl'], [103, 'qzlnphs'], [104, 'tvgogniphn'], [105, 'fdcdzo'], [106, 'heecpun'], [107, 'xyqyy'], [108, 'bbobvwhe'], [109, 'ghmuls'], [110, 'symqljjfo'], [111, 'mkgzmryco'], [112, 'ivpzw'], [113, 'gagiqqeu'], [114, 'oyjnnqwa'], [115, 'fwipy'], [116, 'hvwwsaaol'], [117, 'jvouxcyzw'], [118, 'kkmfitaom'], [119, 'revywzfwn'], [120, 'ourihgkmzz'], [121, 'flnmrvh'], [122, 'pefebhmwzx'], [123, 'gfblnsjg'], [124, 'alrzpcrhb'], [125, 'ygevpbswva'], [126, 'gvjeods'], [127, 'ccvkorbop'], [128, 'fzmguqxk'], [129, 'uomflfspl'], [130, 'qnnpqdj'], [131, 'emfyyivpp'], [132, 'boyyy'], [133, 'amjgm'], [134, 'ozwfjd'], [135, 'puopqgmqrb'], [136, 'jonqcuwbb'], [137, 'etgmig'], [138, 'cclan'], [139, 'nsdncul'], [140, 'dxdbtkaeef'], [141, 'zojin'], [142, 'grcrtixh'], [143, 'zdfsal'], [144, 'puyemwloqs'], [145, 'rslyk'], [146, 'uaflkuj'], [147, 'ijqvox'], [148, 'xiakusklxo'], [149, 'pqayddsfq'], [150, 'pggfewsn'], [151, 'gesqtsiv'], [152, 'huorjkuzs'], [153, 'qirgm'], [154, 'zpkghvhhhc'], [155, 'kgoat'], [156, 'nujaglfzgw'], [157, 'wkawjxta'], [158, 'tqlxvfdbtd'], [159, 'hwwgl'], [160, 'dexkmtjcyb'], [161, 'tpykdz'], [162, 'ezacmgaidx'], [163, 'rdiftpyts'], [164, 'fxrgr'], [165, 'ndmhsdke'], [166, 'pzosx'], [167, 'tnrkii'], [168, 'ofpkolyra'], [169, 'geqovlidw'], [170, 'znhyx'], [171, 'hgrjrq'], [172, 'lqspdxfqyp'], [173, 'vdfekwy'], [174, 'fyygfrcoat'], [175, 'dfdkvx'], [176, 'oekdnm'], [177, 'aoujidls'], [178, 'wwignt'], [179, 'xjydhahfg'], [180, 'oknujyqko'], [181, 'jyjehll'], [182, 'htuxmbxjk'], [183, 'ditit'], [184, 'dvguroh'], [185, 'mszjllldf'], [186, 'llwwze'], [187, 'ldklolg'], [188, 'xbfdrfzdq'], [189, 'ngymkmjzk'], [190, 'purvzffj'], [191, 'vatzbrhhgb'], [192, 'yaozpdwoob'], [193, 'twbxfk'], [194, 'xefhnca'], [195, 'fseagzmyq'], [196, 'rdvkp'], [197, 'hjsauzfo'], [198, 'ulxjx'], [199, 'uynpq'], [200, 'rhamd'], [201, 'ehgzkx'], [202, 'hswbycurkw'], [203, 'tusui'], [204, 'yfvslioy'], [205, 'udkvxbxnkt'], [206, 'ozcksaqf'], [207, 'yjvtad'], [208, 'gjcosxf'], [209, 'uufqgjq'], [210, 'shwwjmxn'], [211, 'wlsokusgy'], [212, 'fnwho'], [213, 'dzrhkwkp'], [214, 'gcdmdtquby'], [215, 'mrupbadu'], [216, 'pqgdvj'], [217, 'zpbwssca'], [218, 'pfdnnoin'], [219, 'iibhejltln'], [220, 'ldkjp'], [221, 'pqczpw'], [222, 'qhqgnf'], [223, 'oequuiqlkl'], [224, 'ktedhltixx'], [225, 'oaevc'], [226, 'enxhgezj'], [227, 'iogimzxlz'], [228, 'jvbcjmezpp'], [229, 'gvzml'], [230, 'okqoxwdmp'], [231, 'vbtiraew'], [232, 'zkmfevfa'], [233, 'zzjqnwvzoe'], [234, 'itgnmaqbrl'], [235, 'dofjjn'], [236, 'ohtmfk'], [237, 'vqdfnl'], [238, 'tbwgbo'], [239, 'fcrcqv'], [240, 'vyjnmkxd'], [241, 'xhopb'], [242, 'tbfnh'], [243, 'qxaahobrqu'], [244, 'rslxbk'], [245, 'ffpsr'], [246, 'lexgpw'], [247, 'jfhqeteqco'], [248, 'sgpzqgvop'], [249, 'atvnh'], [250, 'aqlns'], [251, 'bffutckome'], [252, 'ozymm'], [253, 'fakjcez'], [254, 'cedzikcecd'], [255, 'oiegmbs'], [256, 'eablonmw'], [257, 'fetrdgzy'], [258, 'bqckvifq'], [259, 'llylrpmm'], [260, 'yzpwpmqqqr'], [261, 'feoyj'], [262, 'dheef'], [263, 'gsbpb'], [264, 'ylgcuqn'], [265, 'hzzruxt'], [266, 'agtzn'], [267, 'fadxbc'], [268, 'cwwkoguec'], [269, 'loavth'], [270, 'ckuxpoqwtl'], [271, 'jdcia'], [272, 'etaomopl'], [273, 'jjnknowv'], [274, 'fwyzhupisu'], [275, 'vnsqej'], [276, 'desbsmnim'], [277, 'yovzsylmyf'], [278, 'jmqnn'], [279, 'zlitv'], [280, 'ffeebcieyw'], [281, 'owkxq'], [282, 'zmjbxhdfay'], [283, 'ussna'], [284, 'ivpbze'], [285, 'iogwtvlrwc'], [286, 'vxgutumshl'], [287, 'xrxwxr'], [288, 'xcksuatbig'], [289, 'hxpgtjehv'], [290, 'rmwiqi'], [291, 'pvdiv'], [292, 'jsyceut'], [293, 'dizdbqcm'], [294, 'ainqismtny'], [295, 'tszesgg'], [296, 'xrcpggj'], [297, 'ahazqtit'], [298, 'poomuwkcr'], [299, 'hhnui'], [300, 'motrsmhmsf'], [301, 'brnaj'], [302, 'bxorpfhhnl'], [303, 'qwilfondyl'], [304, 'mvfjk'], [305, 'jiypm'], [306, 'wnckm'], [307, 'hyexj'], [308, 'fveovwdzkb'], [309, 'hafagcifyf'], [310, 'turgnfdice'], [311, 'sjmbq'], [312, 'lclnq'], [313, 'jqrettt'], [314, 'ukidbsn'], [315, 'bpxjwcobja'], [316, 'kyepoflhav'], [317, 'rlicrxdk'], [318, 'vfppwbi'], [319, 'zwlepf'], [320, 'lvaeq'], [321, 'uryeo'], [322, 'ohqje'], [323, 'cniowa'], [324, 'bvubwz'], [325, 'envakjaayx'], [326, 'entcqkkxm'], [327, 'xnttfqio'], [328, 'dzzwnfw'], [329, 'lxczbjroim'], [330, 'yzlszwuo'], [331, 'huqxrxt'], [332, 'nczppoqvq'], [333, 'cvepwdqlar'], [334, 'uekcqbbibq'], [335, 'oacbnmnv'], [336, 'xozcalikqx'], [337, 'fakjabr'], [338, 'djatzcgj'], [339, 'lgnzdum'], [340, 'zepti'], [341, 'wkqvrk'], [342, 'kkhzzc'], [343, 'mrcgsrh'], [344, 'pffenbkhr'], [345, 'hvvvjfjpwb'], [346, 'pnivvvsyo'], [347, 'jdacrnapgu'], [348, 'phfyg'], [349, 'mhwiu'], [350, 'zpfrjlc'], [351, 'znqana'], [352, 'jpdjjwonw'], [353, 'uxstany'], [354, 'jxqvaqf'], [355, 'udeuwz'], [356, 'qtlztag'], [357, 'wjdutf'], [358, 'aslarbas'], [359, 'iblfobkf'], [360, 'jxmyv'], [361, 'hchai'], [362, 'yvodwpk'], [363, 'pfbkkn'], [364, 'isqqby'], [365, 'bleaeyepd']]\n",
        "# binary search\n",
        "\n",
        "\n",
        "# main\n",
        "print(binary_search(friends_birthdays, 156)) # returns 'nujaglfzgw'"
      ],
      "metadata": {
        "id": "gXsXHpyay1CQ"
      },
      "execution_count": null,
      "outputs": []
    },
    {
      "cell_type": "markdown",
      "source": [
        "In what case should we use/ not use binary search."
      ],
      "metadata": {
        "id": "MXMrBp9fjhVz"
      }
    },
    {
      "cell_type": "markdown",
      "source": [
        "# Binary Search Ans"
      ],
      "metadata": {
        "id": "P7dBr-FQzm7x"
      }
    },
    {
      "cell_type": "code",
      "source": [
        "friends_birthdays = [[1, 'hgiqcfrx'], [2, 'qdgnjq'], [3, 'ccapqtzz'], [4, 'rkuzghw'], [5, 'rxwoutwg'], [6, 'azymqzdusk'], [7, 'xcpxnwe'], [8, 'fydfxjgh'], [9, 'ywodzi'], [10, 'vmbfasxu'], [11, 'yorml'], [12, 'vsmcthhdo'], [13, 'lambip'], [14, 'kizml'], [15, 'uxqqc'], [16, 'ukvoinpqgz'], [17, 'jiwcp'], [18, 'eqmpjqwx'], [19, 'atyzioaez'], [20, 'tkkfmh'], [21, 'wxpfdkdhjy'], [22, 'jloszqgqsy'], [23, 'spicd'], [24, 'utlhjew'], [25, 'hhkmwiyy'], [26, 'gstmn'], [27, 'ozsrpch'], [28, 'wnrxnvujco'], [29, 'etpgfcwq'], [30, 'reipn'], [31, 'ngpvzmj'], [32, 'tnnxrqx'], [33, 'jnoutwo'], [34, 'gwlvegtmj'], [35, 'vjejao'], [36, 'wgmhwd'], [37, 'mstqmngt'], [38, 'cnabtm'], [39, 'lqfgar'], [40, 'leanvtorl'], [41, 'vrnghwdszs'], [42, 'fjfrmvyi'], [43, 'irnop'], [44, 'unfqqwxg'], [45, 'gkjyawrlx'], [46, 'sdvqb'], [47, 'ikferxlxtz'], [48, 'epoquaag'], [49, 'dlsffbh'], [50, 'pturj'], [51, 'vpguqng'], [52, 'yfpcnghrh'], [53, 'zvjwatwcr'], [54, 'tocot'], [55, 'vnxskntqzw'], [56, 'otfpegcib'], [57, 'qlzoyecqu'], [58, 'jsztvqo'], [59, 'xuqairl'], [60, 'zgvhcips'], [61, 'bftguabgag'], [62, 'pipkqraeqg'], [63, 'bopywrf'], [64, 'ryrcafnh'], [65, 'xcwtvt'], [66, 'aluhatrndb'], [67, 'qgxbyoyjn'], [68, 'ukpiofcly'], [69, 'xtzxemura'], [70, 'sfpyhg'], [71, 'pelfut'], [72, 'nntqy'], [73, 'prmjegucv'], [74, 'jtloeeky'], [75, 'eoghuuupc'], [76, 'yckevpf'], [77, 'kxzxw'], [78, 'kbfdwxsl'], [79, 'rowsl'], [80, 'qzlrxg'], [81, 'iujdeus'], [82, 'dfbpqcty'], [83, 'hhoymv'], [84, 'znrmaaemk'], [85, 'nscnvojxaa'], [86, 'inuvdrpzc'], [87, 'ugzdqbfs'], [88, 'atzpphkbs'], [89, 'ukckxmuzm'], [90, 'aljdwmw'], [91, 'xbbmphreek'], [92, 'bdqlywemya'], [93, 'nskypgqr'], [94, 'khqtryvt'], [95, 'nygpvzbksr'], [96, 'itfelmsgv'], [97, 'ieedns'], [98, 'lhlcec'], [99, 'cirshaiu'], [100, 'vfbnyekb'], [101, 'wujqsywn'], [102, 'thvkqnrl'], [103, 'qzlnphs'], [104, 'tvgogniphn'], [105, 'fdcdzo'], [106, 'heecpun'], [107, 'xyqyy'], [108, 'bbobvwhe'], [109, 'ghmuls'], [110, 'symqljjfo'], [111, 'mkgzmryco'], [112, 'ivpzw'], [113, 'gagiqqeu'], [114, 'oyjnnqwa'], [115, 'fwipy'], [116, 'hvwwsaaol'], [117, 'jvouxcyzw'], [118, 'kkmfitaom'], [119, 'revywzfwn'], [120, 'ourihgkmzz'], [121, 'flnmrvh'], [122, 'pefebhmwzx'], [123, 'gfblnsjg'], [124, 'alrzpcrhb'], [125, 'ygevpbswva'], [126, 'gvjeods'], [127, 'ccvkorbop'], [128, 'fzmguqxk'], [129, 'uomflfspl'], [130, 'qnnpqdj'], [131, 'emfyyivpp'], [132, 'boyyy'], [133, 'amjgm'], [134, 'ozwfjd'], [135, 'puopqgmqrb'], [136, 'jonqcuwbb'], [137, 'etgmig'], [138, 'cclan'], [139, 'nsdncul'], [140, 'dxdbtkaeef'], [141, 'zojin'], [142, 'grcrtixh'], [143, 'zdfsal'], [144, 'puyemwloqs'], [145, 'rslyk'], [146, 'uaflkuj'], [147, 'ijqvox'], [148, 'xiakusklxo'], [149, 'pqayddsfq'], [150, 'pggfewsn'], [151, 'gesqtsiv'], [152, 'huorjkuzs'], [153, 'qirgm'], [154, 'zpkghvhhhc'], [155, 'kgoat'], [156, 'nujaglfzgw'], [157, 'wkawjxta'], [158, 'tqlxvfdbtd'], [159, 'hwwgl'], [160, 'dexkmtjcyb'], [161, 'tpykdz'], [162, 'ezacmgaidx'], [163, 'rdiftpyts'], [164, 'fxrgr'], [165, 'ndmhsdke'], [166, 'pzosx'], [167, 'tnrkii'], [168, 'ofpkolyra'], [169, 'geqovlidw'], [170, 'znhyx'], [171, 'hgrjrq'], [172, 'lqspdxfqyp'], [173, 'vdfekwy'], [174, 'fyygfrcoat'], [175, 'dfdkvx'], [176, 'oekdnm'], [177, 'aoujidls'], [178, 'wwignt'], [179, 'xjydhahfg'], [180, 'oknujyqko'], [181, 'jyjehll'], [182, 'htuxmbxjk'], [183, 'ditit'], [184, 'dvguroh'], [185, 'mszjllldf'], [186, 'llwwze'], [187, 'ldklolg'], [188, 'xbfdrfzdq'], [189, 'ngymkmjzk'], [190, 'purvzffj'], [191, 'vatzbrhhgb'], [192, 'yaozpdwoob'], [193, 'twbxfk'], [194, 'xefhnca'], [195, 'fseagzmyq'], [196, 'rdvkp'], [197, 'hjsauzfo'], [198, 'ulxjx'], [199, 'uynpq'], [200, 'rhamd'], [201, 'ehgzkx'], [202, 'hswbycurkw'], [203, 'tusui'], [204, 'yfvslioy'], [205, 'udkvxbxnkt'], [206, 'ozcksaqf'], [207, 'yjvtad'], [208, 'gjcosxf'], [209, 'uufqgjq'], [210, 'shwwjmxn'], [211, 'wlsokusgy'], [212, 'fnwho'], [213, 'dzrhkwkp'], [214, 'gcdmdtquby'], [215, 'mrupbadu'], [216, 'pqgdvj'], [217, 'zpbwssca'], [218, 'pfdnnoin'], [219, 'iibhejltln'], [220, 'ldkjp'], [221, 'pqczpw'], [222, 'qhqgnf'], [223, 'oequuiqlkl'], [224, 'ktedhltixx'], [225, 'oaevc'], [226, 'enxhgezj'], [227, 'iogimzxlz'], [228, 'jvbcjmezpp'], [229, 'gvzml'], [230, 'okqoxwdmp'], [231, 'vbtiraew'], [232, 'zkmfevfa'], [233, 'zzjqnwvzoe'], [234, 'itgnmaqbrl'], [235, 'dofjjn'], [236, 'ohtmfk'], [237, 'vqdfnl'], [238, 'tbwgbo'], [239, 'fcrcqv'], [240, 'vyjnmkxd'], [241, 'xhopb'], [242, 'tbfnh'], [243, 'qxaahobrqu'], [244, 'rslxbk'], [245, 'ffpsr'], [246, 'lexgpw'], [247, 'jfhqeteqco'], [248, 'sgpzqgvop'], [249, 'atvnh'], [250, 'aqlns'], [251, 'bffutckome'], [252, 'ozymm'], [253, 'fakjcez'], [254, 'cedzikcecd'], [255, 'oiegmbs'], [256, 'eablonmw'], [257, 'fetrdgzy'], [258, 'bqckvifq'], [259, 'llylrpmm'], [260, 'yzpwpmqqqr'], [261, 'feoyj'], [262, 'dheef'], [263, 'gsbpb'], [264, 'ylgcuqn'], [265, 'hzzruxt'], [266, 'agtzn'], [267, 'fadxbc'], [268, 'cwwkoguec'], [269, 'loavth'], [270, 'ckuxpoqwtl'], [271, 'jdcia'], [272, 'etaomopl'], [273, 'jjnknowv'], [274, 'fwyzhupisu'], [275, 'vnsqej'], [276, 'desbsmnim'], [277, 'yovzsylmyf'], [278, 'jmqnn'], [279, 'zlitv'], [280, 'ffeebcieyw'], [281, 'owkxq'], [282, 'zmjbxhdfay'], [283, 'ussna'], [284, 'ivpbze'], [285, 'iogwtvlrwc'], [286, 'vxgutumshl'], [287, 'xrxwxr'], [288, 'xcksuatbig'], [289, 'hxpgtjehv'], [290, 'rmwiqi'], [291, 'pvdiv'], [292, 'jsyceut'], [293, 'dizdbqcm'], [294, 'ainqismtny'], [295, 'tszesgg'], [296, 'xrcpggj'], [297, 'ahazqtit'], [298, 'poomuwkcr'], [299, 'hhnui'], [300, 'motrsmhmsf'], [301, 'brnaj'], [302, 'bxorpfhhnl'], [303, 'qwilfondyl'], [304, 'mvfjk'], [305, 'jiypm'], [306, 'wnckm'], [307, 'hyexj'], [308, 'fveovwdzkb'], [309, 'hafagcifyf'], [310, 'turgnfdice'], [311, 'sjmbq'], [312, 'lclnq'], [313, 'jqrettt'], [314, 'ukidbsn'], [315, 'bpxjwcobja'], [316, 'kyepoflhav'], [317, 'rlicrxdk'], [318, 'vfppwbi'], [319, 'zwlepf'], [320, 'lvaeq'], [321, 'uryeo'], [322, 'ohqje'], [323, 'cniowa'], [324, 'bvubwz'], [325, 'envakjaayx'], [326, 'entcqkkxm'], [327, 'xnttfqio'], [328, 'dzzwnfw'], [329, 'lxczbjroim'], [330, 'yzlszwuo'], [331, 'huqxrxt'], [332, 'nczppoqvq'], [333, 'cvepwdqlar'], [334, 'uekcqbbibq'], [335, 'oacbnmnv'], [336, 'xozcalikqx'], [337, 'fakjabr'], [338, 'djatzcgj'], [339, 'lgnzdum'], [340, 'zepti'], [341, 'wkqvrk'], [342, 'kkhzzc'], [343, 'mrcgsrh'], [344, 'pffenbkhr'], [345, 'hvvvjfjpwb'], [346, 'pnivvvsyo'], [347, 'jdacrnapgu'], [348, 'phfyg'], [349, 'mhwiu'], [350, 'zpfrjlc'], [351, 'znqana'], [352, 'jpdjjwonw'], [353, 'uxstany'], [354, 'jxqvaqf'], [355, 'udeuwz'], [356, 'qtlztag'], [357, 'wjdutf'], [358, 'aslarbas'], [359, 'iblfobkf'], [360, 'jxmyv'], [361, 'hchai'], [362, 'yvodwpk'], [363, 'pfbkkn'], [364, 'isqqby'], [365, 'bleaeyepd']]\n",
        "# binary search\n",
        "def binary_search(A, target):\n",
        "  low = 0\n",
        "  high = len(A) - 1\n",
        "  while low <= high:\n",
        "    mid = (low + high) // 2\n",
        "    if A[mid][0] == target:\n",
        "      return A[mid][1]\n",
        "    elif A[mid][0] > target:\n",
        "      high = mid - 1\n",
        "    else:\n",
        "      low = mid + 1\n",
        "  return 'Not Found'\n",
        "\n",
        "# main\n",
        "print(binary_search(friends_birthdays, 156)) # returns 'nujaglfzgw'\n",
        "print(binary_search(friends_birthdays, 366)) # returns Not Found"
      ],
      "metadata": {
        "colab": {
          "base_uri": "https://localhost:8080/"
        },
        "id": "hrIXnSQ6zpF0",
        "outputId": "5745edb1-2c5d-470b-d998-3455c74ef673"
      },
      "execution_count": null,
      "outputs": [
        {
          "output_type": "stream",
          "name": "stdout",
          "text": [
            "nujaglfzgw\n",
            "Not Found\n"
          ]
        }
      ]
    },
    {
      "cell_type": "markdown",
      "source": [
        "We should use binary search algorithm to find a value in a large sorted sequence."
      ],
      "metadata": {
        "id": "9QTtqkkZ2gb_"
      }
    },
    {
      "cell_type": "markdown",
      "source": [
        "# Bubble Sort Qn"
      ],
      "metadata": {
        "id": "25Po2JfkqtIG"
      }
    },
    {
      "cell_type": "markdown",
      "source": [
        "After receiving your mid-year results, you want to find out which subject you need to work on the most  \n",
        "Use bubble sort to sort the scores of your tests and state your 2 weakest subjects"
      ],
      "metadata": {
        "id": "bfQPt5YDqvmp"
      }
    },
    {
      "cell_type": "code",
      "source": [
        "# scores and subjects are in order (eg. Mathematics score is 90, Chemistry score is 65)\n",
        "unordered_test_results = [90, 65, 74, 80, 30, 45, 67]\n",
        "subjects = [\"Mathematics\", \"Chemistry\", \"Physics\", \"Biology\", \"English\", \"Social Studies\", \"History\"]\n",
        "\n",
        "# bubble sort\n",
        "\n",
        "\n",
        "# main\n",
        "ordered_test_results = bubble_sort(unordered_test_results)\n",
        "print(ordered_test_results) # return [30, 45, 65, 67, 74, 80, 90]\n",
        "\n",
        "# print 2 weakest subjects\n",
        "test_results = [90, 65, 74, 80, 30, 45, 67]\n",
        "weakest_subjects = []\n",
        "\n",
        "\n",
        "print(weakest_subjects) # return [\"English\", \"Social Studies\"]"
      ],
      "metadata": {
        "id": "it9NK9U2qvHa"
      },
      "execution_count": null,
      "outputs": []
    },
    {
      "cell_type": "markdown",
      "source": [
        "Explain how bubble sort algorithm works"
      ],
      "metadata": {
        "id": "Kc8Kn6zQqv8F"
      }
    },
    {
      "cell_type": "markdown",
      "source": [
        "# Bubble Sort Ans"
      ],
      "metadata": {
        "id": "X0mpkBD6qwc3"
      }
    },
    {
      "cell_type": "code",
      "source": [
        "# scores and subjects are in order (eg. Mathematics score is 90, Chemistry score is 65)\n",
        "test_results = [90, 65, 74, 80, 30, 45, 67]\n",
        "subjects = [\"Mathematics\", \"Chemistry\", \"Physics\", \"Biology\", \"English\", \"Social Studies\", \"History\"]\n",
        "\n",
        "# bubble sort\n",
        "def bubble_sort(A):\n",
        "  for i in range(len(A)):\n",
        "    for j in range(len(A) - 1):\n",
        "      if A[j] > A[j + 1]:\n",
        "        A[j], A[j+1] = A[j+1], A[j]\n",
        "  return A\n",
        "\n",
        "# main\n",
        "ordered_test_results = bubble_sort(test_results)\n",
        "print(ordered_test_results) # return [30, 45, 65, 67, 74, 80, 90]\n",
        "\n",
        "# print 2 weakest subjects\n",
        "test_results = [90, 65, 74, 80, 30, 45, 67]\n",
        "weakest_subjects = []\n",
        "scores_of_weakest = ordered_test_results[0:2]\n",
        "\n",
        "for score in scores_of_weakest:\n",
        "  position = 0\n",
        "  for result in test_results:\n",
        "    if score == result:\n",
        "      weakest_subjects.append(subjects[position])\n",
        "    position += 1\n",
        "\n",
        "print(weakest_subjects) # return [\"English\", \"Social Studies\"]\n",
        "\n",
        "# Alternatively, use linear search/ binary search since list is ordered"
      ],
      "metadata": {
        "colab": {
          "base_uri": "https://localhost:8080/"
        },
        "id": "WO2f0flNqzNh",
        "outputId": "c4238940-4c43-4cec-b3e1-f74c865886e0"
      },
      "execution_count": null,
      "outputs": [
        {
          "output_type": "stream",
          "name": "stdout",
          "text": [
            "[30, 45, 65, 67, 74, 80, 90]\n",
            "['English', 'Social Studies']\n"
          ]
        }
      ]
    },
    {
      "cell_type": "markdown",
      "source": [
        "The bubble sort algorithm works by comparing each element in an array with the element next to it. If the element is greater than the next element, then the two elements are swapped. This process is repeated until the entire array is sorted."
      ],
      "metadata": {
        "id": "xABkXPLzqzz2"
      }
    },
    {
      "cell_type": "markdown",
      "source": [
        "# Insertion Sort Qn"
      ],
      "metadata": {
        "id": "_b0SQpOdxWsv"
      }
    },
    {
      "cell_type": "markdown",
      "source": [
        "You and your friends are planning to make an uno-like card video game  \n",
        "They want to implement a sorting algorithm so players have an easier time looking at their deck of cards  \n",
        "Use insertion sort to sort a random deck of cards"
      ],
      "metadata": {
        "id": "3zfORnr0zaWi"
      }
    },
    {
      "cell_type": "code",
      "source": [
        "from random import randint\n",
        "\n",
        "deck = []\n",
        "for i in range(8):\n",
        "  deck.append(randint(0,9))\n",
        "\n",
        "print(deck)"
      ],
      "metadata": {
        "colab": {
          "base_uri": "https://localhost:8080/"
        },
        "id": "L9bP5FF3zr8M",
        "outputId": "10058c7a-a7a1-4b2a-9637-83df854426e4"
      },
      "execution_count": null,
      "outputs": [
        {
          "output_type": "stream",
          "name": "stdout",
          "text": [
            "[5, 6, 9, 0, 5, 0, 0, 9]\n"
          ]
        }
      ]
    },
    {
      "cell_type": "code",
      "source": [
        "# insertion sort\n",
        "\n",
        "\n",
        "# main\n",
        "print(insertion_sort(deck)) # should return sorted deck"
      ],
      "metadata": {
        "id": "k9FPa7Bh0DoN"
      },
      "execution_count": null,
      "outputs": []
    },
    {
      "cell_type": "markdown",
      "source": [
        "Explain how insertion sort works"
      ],
      "metadata": {
        "id": "7OT4ldi_0jtX"
      }
    },
    {
      "cell_type": "markdown",
      "source": [
        "# Insertion Sort Ans"
      ],
      "metadata": {
        "id": "gFZcJ70i0nsX"
      }
    },
    {
      "cell_type": "code",
      "source": [
        "# insertion sort\n",
        "def insertion_sort(A):\n",
        "  for i in range(1, len(A)):\n",
        "    key = A[i]\n",
        "    j = i - 1\n",
        "    while j >= 0 and A[j] > key:\n",
        "      A[j+1] = A[j]\n",
        "      j -= 1\n",
        "    A[j+1] = key\n",
        "  return A\n",
        "\n",
        "# main\n",
        "print(insertion_sort(deck)) # should return sorted deck"
      ],
      "metadata": {
        "colab": {
          "base_uri": "https://localhost:8080/"
        },
        "id": "-ivxQXAz0pc8",
        "outputId": "98978a37-b065-495c-9c19-fef7b5d3f60b"
      },
      "execution_count": null,
      "outputs": [
        {
          "output_type": "stream",
          "name": "stdout",
          "text": [
            "[0, 0, 0, 5, 5, 6, 9, 9]\n"
          ]
        }
      ]
    },
    {
      "cell_type": "markdown",
      "source": [
        "An insertion sort compares values in turn, starting with the second value in the list. If this value is greater than the value to the left of it, no changes are made. Otherwise this value is repeatedly moved left until it meets a value that is less than it. The sort process then starts again with the next value."
      ],
      "metadata": {
        "id": "Q2QZhbED0w3y"
      }
    },
    {
      "cell_type": "markdown",
      "source": [
        "# Quick Sort Qn"
      ],
      "metadata": {
        "id": "rjtqz2XeEmXx"
      }
    },
    {
      "cell_type": "markdown",
      "source": [
        "You are an accountant working for a large business\n",
        "\n",
        "Your boss wants you to give advice on which sectors requires more resources in order to increase efficiency\n",
        "\n",
        "You decide to do this by sorting expenses and determining which areas need more funding and which areas can use less funding.\n",
        "\n",
        "Use insertion sort to sort the expenses"
      ],
      "metadata": {
        "id": "BFKKe6lEEoP8"
      }
    },
    {
      "cell_type": "code",
      "source": [
        "expenses = [5.6, 7.9, 4.8, 9.0, 1.3, 2.7, 9.9, 2.6 ,8.5]\n",
        "\n",
        "# quicksort\n",
        "\n",
        "\n",
        "# main\n",
        "print(quicksort(expenses)) # return [1.3, 2.6, 2.7, 4.8, 5.6, 7.9, 8.5, 9.0, 9.9]"
      ],
      "metadata": {
        "id": "ZtV_slZhEqa_"
      },
      "execution_count": null,
      "outputs": []
    },
    {
      "cell_type": "markdown",
      "source": [
        "Explain how quick sort works"
      ],
      "metadata": {
        "id": "yL7IVj6RE_Wp"
      }
    },
    {
      "cell_type": "markdown",
      "source": [
        "# Quick Sort Ans"
      ],
      "metadata": {
        "id": "eAm-p2siFGFH"
      }
    },
    {
      "cell_type": "code",
      "source": [
        "expenses = [5.6, 7.9, 4.8, 9.0, 1.3, 2.7, 9.9, 2.6 ,8.5]\n",
        "\n",
        "# quicksort\n",
        "def quicksort(A):\n",
        "    if len(A) <= 1:\n",
        "        return A\n",
        "    pivot = A[len(A) // 2]\n",
        "    left = [x for x in A if x < pivot]\n",
        "    middle = [x for x in A if x == pivot]\n",
        "    right = [x for x in A if x > pivot]\n",
        "    return quicksort(left) + middle + quicksort(right)\n",
        "\n",
        "# main\n",
        "print(quicksort(expenses)) # return [1.3, 2.6, 2.7, 4.8, 5.6, 7.9, 8.5, 9.0, 9.9]"
      ],
      "metadata": {
        "id": "XSKnOEX3FH8L",
        "outputId": "d2e284b6-d90a-4830-cd17-df9888e1f0d1",
        "colab": {
          "base_uri": "https://localhost:8080/"
        }
      },
      "execution_count": null,
      "outputs": [
        {
          "output_type": "stream",
          "name": "stdout",
          "text": [
            "[1.3, 2.6, 2.7, 4.8, 5.6, 7.9, 8.5, 9.0, 9.9]\n"
          ]
        }
      ]
    },
    {
      "cell_type": "markdown",
      "source": [
        "Quicksort works by works by selecting a pivot from the array and partitioning the other elements into two sub-arrays, according to whether they are less than or greater than the pivot."
      ],
      "metadata": {
        "id": "gKL_Heg9FN3p"
      }
    },
    {
      "cell_type": "markdown",
      "source": [
        "# Merge Sort Qn"
      ],
      "metadata": {
        "id": "Zd99K_5HPma6"
      }
    },
    {
      "cell_type": "markdown",
      "source": [
        "For economics class, your teacher wants you to determine which country is doing the best in terms of their gross domestic product\n",
        "\n",
        "Your teacher provided the data to you\n",
        "\n",
        "Use merge sort to sort the GDP and find out the highest GDP in the data"
      ],
      "metadata": {
        "id": "uTsWxM_7PoPI"
      }
    },
    {
      "cell_type": "code",
      "source": [
        "# from random import randint\n",
        "\n",
        "# data = []\n",
        "# for i in range(15):\n",
        "#   data.append(randint(10,600))\n",
        "\n",
        "# print(data)"
      ],
      "metadata": {
        "id": "LGKwgIH1QT3E",
        "outputId": "0ba42c05-a13d-4194-fdeb-ac89eee5552a",
        "colab": {
          "base_uri": "https://localhost:8080/"
        }
      },
      "execution_count": null,
      "outputs": [
        {
          "output_type": "stream",
          "name": "stdout",
          "text": [
            "[191, 443, 594, 28, 600, 88, 144, 233, 324, 80, 276, 164, 284, 526, 577]\n"
          ]
        }
      ]
    },
    {
      "cell_type": "code",
      "source": [
        "data = [191, 443, 594, 28, 600, 88, 144, 233, 324, 80, 276, 164, 284, 526, 577]\n",
        "\n",
        "# merge sort\n",
        "\n",
        "\n",
        "# main\n",
        "print(merge_sort(data)) # return [28, 80, 88, 144, 164, 191, 233, 276, 284, 324, 443, 526, 577, 594, 600]"
      ],
      "metadata": {
        "id": "8cFZX7SGQSF5"
      },
      "execution_count": null,
      "outputs": []
    },
    {
      "cell_type": "markdown",
      "source": [
        "Explain how merge sort works"
      ],
      "metadata": {
        "id": "dhXOQro5Qw60"
      }
    },
    {
      "cell_type": "markdown",
      "source": [
        "# Merge Sort Ans"
      ],
      "metadata": {
        "id": "xeQ8y9cQQy4h"
      }
    },
    {
      "cell_type": "code",
      "source": [
        "data = [191, 443, 594, 28, 600, 88, 144, 233, 324, 80, 276, 164, 284, 526, 577]\n",
        "\n",
        "# merge sort\n",
        "def merge_sort(A):\n",
        "    if len(A) <= 1:\n",
        "        return A\n",
        "\n",
        "    mid = len(A) // 2\n",
        "    left_half = A[:mid]\n",
        "    right_half = A[mid:]\n",
        "\n",
        "    left_half = merge_sort(left_half)\n",
        "    right_half = merge_sort(right_half)\n",
        "\n",
        "    return merge(left_half, right_half)\n",
        "\n",
        "def merge(left_half, right_half):\n",
        "    i = j = 0\n",
        "    merged_list = []\n",
        "    while i < len(left_half) and j < len(right_half):\n",
        "        if left_half[i] < right_half[j]:\n",
        "            merged_list.append(left_half[i])\n",
        "            i += 1\n",
        "        else:\n",
        "            merged_list.append(right_half[j])\n",
        "            j += 1\n",
        "\n",
        "    merged_list += left_half[i:]\n",
        "    merged_list += right_half[j:]\n",
        "\n",
        "    return merged_list\n",
        "\n",
        "# main\n",
        "print(merge_sort(data)) # return [28, 80, 88, 144, 164, 191, 233, 276, 284, 324, 443, 526, 577, 594, 600]"
      ],
      "metadata": {
        "id": "DZiAoIafQ1QM",
        "outputId": "ddb12bf2-2e79-4098-ddb4-79af84b16d44",
        "colab": {
          "base_uri": "https://localhost:8080/"
        }
      },
      "execution_count": null,
      "outputs": [
        {
          "output_type": "stream",
          "name": "stdout",
          "text": [
            "[28, 80, 88, 144, 164, 191, 233, 276, 284, 324, 443, 526, 577, 594, 600]\n"
          ]
        }
      ]
    },
    {
      "cell_type": "markdown",
      "source": [
        "Merge sort continuously cuts down a list into multiple sublists until each has only one item, then merges those sublists into a sorted list."
      ],
      "metadata": {
        "id": "W1JQHLoIRBn5"
      }
    },
    {
      "cell_type": "markdown",
      "source": [
        "# Linked List Qn"
      ],
      "metadata": {
        "id": "tiVFLds6_1Es"
      }
    },
    {
      "cell_type": "markdown",
      "source": [
        "You wish to code a to-do list that can add, display, update, and delete tasks.\n",
        "\n",
        "Use a linked list to add your tasks for the day."
      ],
      "metadata": {
        "id": "Lngckq-u_8Qo"
      }
    },
    {
      "cell_type": "code",
      "source": [
        "tasks = [\"Do Homework\", \"Revise for upcoming test\", \"Practice speech\"]\n",
        "# Linked List\n",
        "\n",
        "\n",
        "# main\n",
        "todolist = LinkedList()\n",
        "todolist.add(tasks[0])\n",
        "todolist.add(tasks[1])\n",
        "todolist.add(tasks[2])\n",
        "todolist.display() # prints Practice speech Revise for upcoming test Do Homework\n",
        "print(todolist.search(tasks[0])) # returns Do Homework\n",
        "todolist.remove(tasks[0])\n",
        "todolist.display() # prints Practice speech Revise for upcoming test\n",
        "print(todolist.update(tasks[1], \"Redo class test\"))\n",
        "todolist.display() # prints Practice speech Redo class test"
      ],
      "metadata": {
        "id": "JA3gQSY5AB1g"
      },
      "execution_count": null,
      "outputs": []
    },
    {
      "cell_type": "markdown",
      "source": [
        "How do you delete a node from a linked list?"
      ],
      "metadata": {
        "id": "AekgW1gnArQY"
      }
    },
    {
      "cell_type": "markdown",
      "source": [
        "# Linked List Ans"
      ],
      "metadata": {
        "id": "eOxs3NChAtWL"
      }
    },
    {
      "cell_type": "code",
      "source": [
        "tasks = [\"Do Homework\", \"Revise for upcoming test\", \"Practice speech\"]\n",
        "# Linked List\n",
        "class Node:\n",
        "  def __init__(self, data):\n",
        "    self.data = data\n",
        "    self.next = None\n",
        "\n",
        "class LinkedList:\n",
        "  def __init__(self):\n",
        "    self.head = None\n",
        "\n",
        "  def add(self, data):\n",
        "    newnode = Node(data)\n",
        "\n",
        "    if self.head == None:\n",
        "      self.head = newnode\n",
        "    else:\n",
        "      previous = self.head\n",
        "      self.head = newnode\n",
        "      newnode.next = previous\n",
        "\n",
        "  def search(self, data):\n",
        "    current = self.head\n",
        "    found = False\n",
        "\n",
        "    while not found and current is not None:\n",
        "      if current.data == data:\n",
        "        return current.data\n",
        "      else:\n",
        "        current = current.next\n",
        "\n",
        "    return \"Not Found\"\n",
        "\n",
        "  def display(self):\n",
        "    current = self.head\n",
        "\n",
        "    while current is not None:\n",
        "      print(current.data, end=\" \")\n",
        "      current = current.next\n",
        "    print(\"\")\n",
        "\n",
        "  def update(self, data, newdata):\n",
        "    current = self.head\n",
        "    found = False\n",
        "\n",
        "    while not found and current is not None:\n",
        "      if current.data == data:\n",
        "        current.data = newdata\n",
        "        return current.data\n",
        "      else:\n",
        "        current = current.next\n",
        "\n",
        "    return \"Not Found\"\n",
        "\n",
        "  def remove(self, data):\n",
        "    current = self.head\n",
        "    previous = None\n",
        "    found = False\n",
        "\n",
        "    while not found and current is not None:\n",
        "      if current.data == data:\n",
        "        found = True\n",
        "      else:\n",
        "        previous = current\n",
        "        current = current.next\n",
        "\n",
        "    if found:\n",
        "      if previous is None:\n",
        "        self.head = current.next\n",
        "      else:\n",
        "        previous.next = current.next\n",
        "    else:\n",
        "      print(\"Not found in list\")\n",
        "\n",
        "# main\n",
        "todolist = LinkedList()\n",
        "todolist.add(tasks[0])\n",
        "todolist.add(tasks[1])\n",
        "todolist.add(tasks[2])\n",
        "todolist.display() # prints Practice speech Revise for upcoming test Do Homework\n",
        "print(todolist.search(tasks[0])) # returns Do Homework\n",
        "todolist.remove(tasks[0])\n",
        "todolist.display() # prints Practice speech Revise for upcoming test\n",
        "print(todolist.update(tasks[1], \"Redo class test\"))\n",
        "todolist.display() # prints Practice speech Redo class test"
      ],
      "metadata": {
        "colab": {
          "base_uri": "https://localhost:8080/"
        },
        "id": "O13YWd0JAvDj",
        "outputId": "09f8132b-8bbb-47ae-f238-a5d1c5ecfa60"
      },
      "execution_count": null,
      "outputs": [
        {
          "output_type": "stream",
          "name": "stdout",
          "text": [
            "Practice speech Revise for upcoming test Do Homework \n",
            "Do Homework\n",
            "Practice speech Revise for upcoming test \n",
            "Redo class test\n",
            "Practice speech Redo class test \n"
          ]
        }
      ]
    },
    {
      "cell_type": "markdown",
      "source": [
        "Find the node you want to delete, then change previous node's next pointer to current node's next pointer."
      ],
      "metadata": {
        "id": "pi9bECTPD8mP"
      }
    },
    {
      "cell_type": "markdown",
      "source": [
        "# Stack Qn"
      ],
      "metadata": {
        "id": "-hIsinCaEE_o"
      }
    },
    {
      "cell_type": "markdown",
      "source": [
        "You make a card game and want to add a deck feature.\n",
        "\n",
        "Use a stack to simulate a deck of cards so that players only take the top of the deck."
      ],
      "metadata": {
        "id": "kI9fXLMkEIgd"
      }
    },
    {
      "cell_type": "code",
      "source": [
        "# Stack\n",
        "\n",
        "\n",
        "# main\n",
        "deck = Stack(10)\n",
        "for i in range(10):\n",
        "  deck.push(i)\n",
        "deck.display() # returns [0, 1, 2, 3, 4, 5, 6, 7, 8, 9]\n",
        "print(deck.pop()) # returns 9\n",
        "print(deck.pop()) # returns 8\n",
        "deck.display() # returns [0, 1, 2, 3, 4, 5, 6, 7, -1, -1]"
      ],
      "metadata": {
        "id": "blxePuykEKJD"
      },
      "execution_count": null,
      "outputs": []
    },
    {
      "cell_type": "markdown",
      "source": [
        "Explain how a stack works"
      ],
      "metadata": {
        "id": "tDT154WMEzGc"
      }
    },
    {
      "cell_type": "markdown",
      "source": [
        "# Stack Ans"
      ],
      "metadata": {
        "id": "W13MNE61E1Nh"
      }
    },
    {
      "cell_type": "code",
      "source": [
        "# Stack\n",
        "class Stack:\n",
        "  def __init__(self, N):\n",
        "    self.top = -1\n",
        "    self.N = N\n",
        "    self.stack = [-1 for i in range(N)]\n",
        "\n",
        "  def push(self, data):\n",
        "    if self.top == self.N - 1:\n",
        "      print(\"Cannot insert into a full stack\")\n",
        "    else:\n",
        "      self.top += 1\n",
        "      self.stack[self.top] = data\n",
        "      print(data, \"inserted\")\n",
        "\n",
        "  def pop(self):\n",
        "    if self.top == -1:\n",
        "      print(\"Cannot delete from empty stack\")\n",
        "    else:\n",
        "      item = self.stack[self.top]\n",
        "      self.stack[self.top] = -1\n",
        "      self.top -= 1\n",
        "      return item\n",
        "\n",
        "  def display(self):\n",
        "    print(self.stack)\n",
        "\n",
        "# main\n",
        "deck = Stack(10)\n",
        "for i in range(10):\n",
        "  deck.push(i)\n",
        "deck.display() # returns [0, 1, 2, 3, 4, 5, 6, 7, 8, 9]\n",
        "print(deck.pop()) # returns 9\n",
        "print(deck.pop()) # returns 8\n",
        "deck.display() # returns [0, 1, 2, 3, 4, 5, 6, 7, -1, -1]"
      ],
      "metadata": {
        "colab": {
          "base_uri": "https://localhost:8080/"
        },
        "id": "HdRlKRfME2Xs",
        "outputId": "a4d01f90-aa8d-4de9-b534-eb7920fd9054"
      },
      "execution_count": null,
      "outputs": [
        {
          "output_type": "stream",
          "name": "stdout",
          "text": [
            "0 inserted\n",
            "1 inserted\n",
            "2 inserted\n",
            "3 inserted\n",
            "4 inserted\n",
            "5 inserted\n",
            "6 inserted\n",
            "7 inserted\n",
            "8 inserted\n",
            "9 inserted\n",
            "[0, 1, 2, 3, 4, 5, 6, 7, 8, 9]\n",
            "9\n",
            "8\n",
            "[0, 1, 2, 3, 4, 5, 6, 7, -1, -1]\n"
          ]
        }
      ]
    },
    {
      "cell_type": "markdown",
      "source": [
        "Stacks work through the last in first out logic. It adds data to the top of the stack and removes data from the top of the stack."
      ],
      "metadata": {
        "id": "RjQ9Rb9DF4qD"
      }
    },
    {
      "cell_type": "markdown",
      "source": [
        "# Queue Qn"
      ],
      "metadata": {
        "id": "OJ_y64oZGJ4W"
      }
    },
    {
      "cell_type": "markdown",
      "source": [
        "You wish to set up a crochet business that goes by a first come first served basis.\n",
        "\n",
        "You want to implement a queue to help you keep track of what projects need to be done first."
      ],
      "metadata": {
        "id": "rXS5rWwQGTbF"
      }
    },
    {
      "cell_type": "code",
      "source": [
        "projects = [\"Cat\", \"Frog\", \"Dog\", \"Coaster\"]\n",
        "# Queue\n",
        "\n",
        "\n",
        "# main\n",
        "queue = Queue(10)\n",
        "for project in projects:\n",
        "  queue.insert(project)\n",
        "queue.display() # prints ['Cat', 'Frog', 'Dog', 'Coaster', -1, -1, -1, -1, -1, -1]\n",
        "queue.remove()\n",
        "queue.insert(\"Dragon\")\n",
        "queue.display() # prints ['Cat', 'Frog', 'Dog', 'Coaster', 'Dragon', -1, -1, -1, -1, -1]\n",
        "queue.remove()\n",
        "queue.display() # prints [-1, 'Frog', 'Dog', 'Coaster', 'Dragon', -1, -1, -1, -1, -1]"
      ],
      "metadata": {
        "id": "F1SVVleDGPZl"
      },
      "execution_count": null,
      "outputs": []
    },
    {
      "cell_type": "markdown",
      "source": [
        "Explain how a queue works"
      ],
      "metadata": {
        "id": "MviWMUDIGW95"
      }
    },
    {
      "cell_type": "markdown",
      "source": [
        "# Queue Ans"
      ],
      "metadata": {
        "id": "yDRT75djGZR6"
      }
    },
    {
      "cell_type": "code",
      "source": [
        "projects = [\"Cat\", \"Frog\", \"Dog\", \"Coaster\"]\n",
        "# Queue\n",
        "class Queue:\n",
        "  def __init__(self, N):\n",
        "    self.head = 0\n",
        "    self.tail = 0\n",
        "    self.N = N\n",
        "    self.queue = [-1 for i in range(N)]\n",
        "\n",
        "  def insert(self, data):\n",
        "    if self.tail == self.head and self.queue[self.tail] != -1:\n",
        "      print(\"Cannot insert to full queue\")\n",
        "    else:\n",
        "      self.queue[self.tail] = data\n",
        "      self.tail += 1\n",
        "      if self.tail >= self.N:\n",
        "        self.tail = self.tail % self.N\n",
        "\n",
        "  def remove(self):\n",
        "    if self.tail == self.head and self.queue[self.tail] == -1:\n",
        "      print(\"Cannot remove from an empty queue\")\n",
        "    else:\n",
        "      item = self.queue[self.head]\n",
        "      self.queue[self.head] = -1\n",
        "      self.head += 1\n",
        "      if self.head >= self.N:\n",
        "        self.head = self.head % self.N\n",
        "\n",
        "  def display(self):\n",
        "    print(self.queue)\n",
        "\n",
        "# main\n",
        "queue = Queue(10)\n",
        "for project in projects:\n",
        "  queue.insert(project)\n",
        "queue.display() # prints ['Cat', 'Frog', 'Dog', 'Coaster', -1, -1, -1, -1, -1, -1]\n",
        "queue.remove()\n",
        "queue.insert(\"Dragon\")\n",
        "queue.display() # prints ['Cat', 'Frog', 'Dog', 'Coaster', 'Dragon', -1, -1, -1, -1, -1]\n",
        "queue.remove()\n",
        "queue.display() # prints [-1, 'Frog', 'Dog', 'Coaster', 'Dragon', -1, -1, -1, -1, -1]\n",
        "queue.remove()\n",
        "queue.remove()\n",
        "queue.remove()\n",
        "queue.remove()\n",
        "queue.display()"
      ],
      "metadata": {
        "colab": {
          "base_uri": "https://localhost:8080/"
        },
        "id": "CZajwL0EGaUa",
        "outputId": "e253c03b-077d-4675-bf00-62c5eb4f896c"
      },
      "execution_count": null,
      "outputs": [
        {
          "output_type": "stream",
          "name": "stdout",
          "text": [
            "['Cat', 'Frog', 'Dog', 'Coaster', -1, -1, -1, -1, -1, -1]\n",
            "['Cat', 'Frog', 'Dog', 'Coaster', 'Dragon', -1, -1, -1, -1, -1]\n",
            "[-1, 'Frog', 'Dog', 'Coaster', 'Dragon', -1, -1, -1, -1, -1]\n",
            "Cannot remove from an empty queue\n",
            "[-1, -1, -1, -1, -1, -1, -1, -1, -1, -1]\n"
          ]
        }
      ]
    },
    {
      "cell_type": "markdown",
      "source": [
        "Queues work through the first in first out logic. It adds item to the back of the queue and removes items from the front of the queue."
      ],
      "metadata": {
        "id": "3c1qlQ2oI0Tq"
      }
    },
    {
      "cell_type": "markdown",
      "source": [
        "# Hash Table Qn"
      ],
      "metadata": {
        "id": "Uc7616ZOJBKq"
      }
    },
    {
      "cell_type": "markdown",
      "source": [
        "Your school library wants to keep track of students who borrowed books\n",
        "\n",
        "They use student’s register numbers (1-10) as the key and the book names as the value\n",
        "\n",
        "Create a hash table to keep track of the students which CRUD (Create, Read, Update, Delete) functionalities."
      ],
      "metadata": {
        "id": "d64NU4QrJGoB"
      }
    },
    {
      "cell_type": "code",
      "source": [
        "# Hash Table\n",
        "\n",
        "\n",
        "# main\n",
        "hashtable = Hash_Table(10)\n",
        "records = {1234: 'Tom', 651: 'Mary', 238: 'Ali'}\n",
        "for key, value in records.items():\n",
        "  hashtable.insert(key, value)\n",
        "hashtable.display() # prints [-1, 'Mary', -1, -1, 'Tom', -1, -1, -1, 'Ali', -1]\n",
        "hashtable.insert(7654, 'Alex')\n",
        "hashtable.insert(999, 'MrPang')\n",
        "hashtable.insert(9, 'MsChen')\n",
        "hashtable.display() # prints ['MsChen', 'Mary', -1, -1, 'Tom', 'Alex', -1, -1, 'Ali', 'MrPang']\n",
        "print(hashtable.search(1234, 'Tom')) # returns Tom\n",
        "print(hashtable.search(3, 'Peter')) # returns Record not found\n",
        "print(hashtable.search(7654, 'Alex')) # returns Found in collided records\n",
        "print(hashtable.search(44, 'Zoe')) # returns Not found in collided records\n",
        "print(hashtable.update(11, 'MsChew')) # returns ['MsChen', 'MsChew', -1, -1, 'Tom', 'Alex', -1, -1, 'Ali', 'MrPang']\n",
        "print(hashtable.delete(2222221)) # returns ['MsChen', -1, -1, -1, 'Tom', 'Alex', -1, -1, 'Ali', 'MrPang']"
      ],
      "metadata": {
        "id": "_d4b74LQJF3Z"
      },
      "execution_count": null,
      "outputs": []
    },
    {
      "cell_type": "markdown",
      "source": [
        "What is a hash function, and what role does it play in hash table operations?"
      ],
      "metadata": {
        "id": "V7V6pCbIJG2O"
      }
    },
    {
      "cell_type": "markdown",
      "source": [
        "# Hash Table Ans"
      ],
      "metadata": {
        "id": "8XFK8Bp2JS3H"
      }
    },
    {
      "cell_type": "code",
      "source": [
        "# Hash Table\n",
        "class Hash_Table:\n",
        "  def __init__(self, N):\n",
        "    self.N = N\n",
        "    self.hash_table = [-1 for i in range(N)]\n",
        "\n",
        "  def hash(self, key):\n",
        "    return key % self.N\n",
        "\n",
        "  def insert(self, key, value):\n",
        "    index = self.hash(key)\n",
        "    if self.hash_table[index] == -1: # no collision\n",
        "      self.hash_table[index] = value\n",
        "    else: # collision\n",
        "      i = (index + 1) % self.N # linear probing\n",
        "      while self.hash_table[i] != -1: # find next free slot\n",
        "        i = (i + 1) % self.N\n",
        "      self.hash_table[i] = value # insert collided record\n",
        "\n",
        "  def search(self, key, target):\n",
        "    index = self.hash(key)\n",
        "    if self.hash_table[index] == -1:\n",
        "      return 'Record not found'\n",
        "    elif self.hash_table[index] != target:\n",
        "      i = (index + 1) % self.N\n",
        "      while self.hash_table[i] != -1:\n",
        "        if self.hash_table[i] == target:\n",
        "          return 'Found in collided records'\n",
        "        i = (i + 1) % self.N\n",
        "      return 'Not found in collided records'\n",
        "    else:\n",
        "      return self.hash_table[index]\n",
        "\n",
        "  def update(self, key, value):\n",
        "    # search, if found update else error\n",
        "    index = self.hash(key)\n",
        "    if self.hash_table[index] != -1:\n",
        "      self.hash_table[index] = value\n",
        "      return self.hash_table\n",
        "    else:\n",
        "      return \"No Value Found\"\n",
        "\n",
        "  def delete(self, key):\n",
        "    # search, if found delete else error\n",
        "    index = self.hash(key)\n",
        "    if self.hash_table[index] != -1:\n",
        "      self.hash_table[index] = -1\n",
        "      return self.hash_table\n",
        "    else:\n",
        "      return 'No value found'\n",
        "\n",
        "  def display(self):\n",
        "    print(self.hash_table)\n",
        "\n",
        "# main\n",
        "hashtable = Hash_Table(10)\n",
        "records = {1234: 'Tom', 651: 'Mary', 238: 'Ali'}\n",
        "for key, value in records.items():\n",
        "  hashtable.insert(key, value)\n",
        "hashtable.display() # prints [-1, 'Mary', -1, -1, 'Tom', -1, -1, -1, 'Ali', -1]\n",
        "hashtable.insert(7654, 'Alex')\n",
        "hashtable.insert(999, 'MrPang')\n",
        "hashtable.insert(9, 'MsChen')\n",
        "hashtable.display() # prints ['MsChen', 'Mary', -1, -1, 'Tom', 'Alex', -1, -1, 'Ali', 'MrPang']\n",
        "print(hashtable.search(1234, 'Tom')) # returns Tom\n",
        "print(hashtable.search(3, 'Peter')) # returns Record not found\n",
        "print(hashtable.search(7654, 'Alex')) # returns Found in collided records\n",
        "print(hashtable.search(44, 'Zoe')) # returns Not found in collided records\n",
        "print(hashtable.update(11, 'MsChew')) # returns ['MsChen', 'MsChew', -1, -1, 'Tom', 'Alex', -1, -1, 'Ali', 'MrPang']\n",
        "print(hashtable.delete(2222221)) # returns ['MsChen', -1, -1, -1, 'Tom', 'Alex', -1, -1, 'Ali', 'MrPang']"
      ],
      "metadata": {
        "colab": {
          "base_uri": "https://localhost:8080/"
        },
        "id": "1m2lvN0DJboD",
        "outputId": "50ee9a31-fcf9-404c-edbb-8cdf166d7099"
      },
      "execution_count": null,
      "outputs": [
        {
          "output_type": "stream",
          "name": "stdout",
          "text": [
            "[-1, 'Mary', -1, -1, 'Tom', -1, -1, -1, 'Ali', -1]\n",
            "['MsChen', 'Mary', -1, -1, 'Tom', 'Alex', -1, -1, 'Ali', 'MrPang']\n",
            "Tom\n",
            "Record not found\n",
            "Found in collided records\n",
            "Not found in collided records\n",
            "['MsChen', 'MsChew', -1, -1, 'Tom', 'Alex', -1, -1, 'Ali', 'MrPang']\n",
            "['MsChen', -1, -1, -1, 'Tom', 'Alex', -1, -1, 'Ali', 'MrPang']\n"
          ]
        }
      ]
    },
    {
      "cell_type": "markdown",
      "source": [],
      "metadata": {
        "id": "41ukrAIkJa-i"
      }
    },
    {
      "cell_type": "markdown",
      "source": [
        "# SQlite workflow Qn"
      ],
      "metadata": {
        "id": "0L9NwoVBMhPl"
      }
    },
    {
      "cell_type": "markdown",
      "source": [
        "Create a table for students\n",
        "\n",
        "Each student has a register number, name, class, contact number and teacher name"
      ],
      "metadata": {
        "id": "dRGsjWy3MkgN"
      }
    },
    {
      "cell_type": "code",
      "source": [
        "# Import modules\n",
        "import sqlite3\n",
        "\n",
        "# Connect to database (or create it if it does not exist)\n",
        "\n",
        "\n",
        "# Create cursor object to interact with the database\n",
        "\n",
        "\n",
        "# Set up query\n",
        "# Create table\n",
        "\n",
        "\n",
        "# Insert/Select/Update/Delete data\n",
        "cursor.execute(''' ''', (\"Bob\", \"123\", 1234, \"Mr Tan\"))\n",
        "cursor.execute(''' ''', (\"Alice\", \"123\", 1324, \"Mr Tan\"))\n",
        "cursor.execute(''' ''', (\"Alan\", \"123\", 1423, \"Mr Tan\"))\n",
        "\n",
        "# Commit changes to disk\n",
        "\n",
        "\n",
        "# Query data\n",
        "\n",
        "\n",
        "# Close connection\n"
      ],
      "metadata": {
        "id": "a9RyCowZMk-G"
      },
      "execution_count": null,
      "outputs": []
    },
    {
      "cell_type": "markdown",
      "source": [
        "What are the steps to interact with a relational database in python?"
      ],
      "metadata": {
        "id": "5jcBbOQDMlLa"
      }
    },
    {
      "cell_type": "markdown",
      "source": [
        "# SQlite workflow Ans"
      ],
      "metadata": {
        "id": "WzDcozRrMlk-"
      }
    },
    {
      "cell_type": "code",
      "source": [
        "# Import modules\n",
        "import sqlite3\n",
        "\n",
        "# Connect to database (or create it if it does not exist)\n",
        "conn = sqlite3.connect(\"students.db\")\n",
        "\n",
        "# Create cursor object to interact with the database\n",
        "cursor = conn.cursor()\n",
        "\n",
        "# Set up query\n",
        "# Create table\n",
        "cursor.execute('''CREATE TABLE IF NOT EXISTS Students (register_number INTEGER PRIMARY KEY,\n",
        "                  name TEXT,\n",
        "                  class TEXT,\n",
        "                  contact_number INTEGER,\n",
        "                  teacher_name TEXT)''')\n",
        "\n",
        "# Insert/Select/Update/Delete data\n",
        "cursor.execute('''INSERT INTO students (name, class, contact_number, teacher_name) VALUES (?, ?, ?, ?)''', (\"Bob\", \"123\", 1234, \"Mr Tan\"))\n",
        "cursor.execute('''INSERT INTO students (name, class, contact_number, teacher_name) VALUES (?, ?, ?, ?)''', (\"Alice\", \"123\", 1324, \"Mr Tan\"))\n",
        "cursor.execute('''INSERT INTO students (name, class, contact_number, teacher_name) VALUES (?, ?, ?, ?)''', (\"Alan\", \"123\", 1423, \"Mr Tan\"))\n",
        "\n",
        "# Commit changes to disk\n",
        "conn.commit()\n",
        "\n",
        "# Query data\n",
        "rows = cursor.execute(\"SELECT * FROM students\")\n",
        "for row in rows:\n",
        "  print(row)\n",
        "\n",
        "# Close connection\n",
        "conn.close()"
      ],
      "metadata": {
        "colab": {
          "base_uri": "https://localhost:8080/"
        },
        "id": "eoeJFZr9MpBq",
        "outputId": "0b5fde86-b23d-4009-f52c-de4565f977af"
      },
      "execution_count": null,
      "outputs": [
        {
          "output_type": "stream",
          "name": "stdout",
          "text": [
            "(1, 'Bob', '123', 1234, 'Mr Tan')\n"
          ]
        }
      ]
    },
    {
      "cell_type": "markdown",
      "source": [
        "First import the modules, then connect to the database and lastly create a cursor object to interact with the database."
      ],
      "metadata": {
        "id": "nOA7-NrpMv96"
      }
    },
    {
      "cell_type": "markdown",
      "source": [
        "# Flask workflow Qn"
      ],
      "metadata": {
        "id": "Nq9f84BAPM7E"
      }
    },
    {
      "cell_type": "markdown",
      "source": [
        "Create a webapp with input output functionalities, can be anything.  \n",
        "  \n",
        "Show knowledge of forms in html and handling of data in python."
      ],
      "metadata": {
        "id": "Di41soDfPOHZ"
      }
    },
    {
      "cell_type": "markdown",
      "source": [
        "What should be included in an html file for browsers to render it properly?"
      ],
      "metadata": {
        "id": "bl4egHHLPT4p"
      }
    },
    {
      "cell_type": "markdown",
      "source": [
        "# Flask workflow Ans"
      ],
      "metadata": {
        "id": "sv0JVGpvPYL9"
      }
    },
    {
      "cell_type": "markdown",
      "source": [
        "Character set such as utf-8 should be specified in the header for websites to render html files properly."
      ],
      "metadata": {
        "id": "m06hr0prPZTo"
      }
    },
    {
      "cell_type": "markdown",
      "source": [
        "# Conditional Statements Qn"
      ],
      "metadata": {
        "id": "minCXIPPPory"
      }
    },
    {
      "cell_type": "markdown",
      "source": [
        "You wish to create a website that includes a login function.\n",
        "\n",
        "Create a simple password checker using if statements to check if the entered password matches the password in the given variable.\n",
        "\n",
        "It should print out “Success” if the passwords match and “Failed” if they do not match."
      ],
      "metadata": {
        "id": "6xseObPyPspf"
      }
    },
    {
      "cell_type": "code",
      "source": [
        "expected_password = \"hackerman\"\n",
        "entered_password = input(\"Enter Password: \")\n",
        "\n"
      ],
      "metadata": {
        "id": "6h9NVCrzPtjx"
      },
      "execution_count": null,
      "outputs": []
    },
    {
      "cell_type": "markdown",
      "source": [
        "What are the 3 conditional statements?"
      ],
      "metadata": {
        "id": "lXkFAxMdPt7s"
      }
    },
    {
      "cell_type": "markdown",
      "source": [
        "# Conditional Statements Ans"
      ],
      "metadata": {
        "id": "qr793iJIPwgu"
      }
    },
    {
      "cell_type": "code",
      "source": [
        "expected_password = \"hackerman\"\n",
        "entered_password = input(\"Enter Password: \")\n",
        "\n",
        "if entered_password == expected_password:\n",
        "  print(\"Success\")\n",
        "else:\n",
        "  print(\"Failed\")"
      ],
      "metadata": {
        "id": "OUOqXqBRPyxa"
      },
      "execution_count": null,
      "outputs": []
    },
    {
      "cell_type": "markdown",
      "source": [
        "The 3 conditional statements are if, elif and else."
      ],
      "metadata": {
        "id": "yxWRhVrQQF2N"
      }
    },
    {
      "cell_type": "markdown",
      "source": [
        "# Loops Qn"
      ],
      "metadata": {
        "id": "X66YIfFEQIYd"
      }
    },
    {
      "cell_type": "markdown",
      "source": [
        "You wish to create a chess board with a list of every position of squares on the chess board. There are 64 total squares and you think it is too tedious to type it all in one by one.\n",
        "\n",
        "Make a nested for loop that prints out every position of all squares on a chess board. You may create a list of the positions if you know how to.\n",
        "(A-H, 1,8) Eg. A1, E2 etc."
      ],
      "metadata": {
        "id": "2tihE7NxQLyO"
      }
    },
    {
      "cell_type": "code",
      "source": [],
      "metadata": {
        "id": "b6kFSx-4QNqd"
      },
      "execution_count": null,
      "outputs": []
    },
    {
      "cell_type": "markdown",
      "source": [
        "What does a for loop do?"
      ],
      "metadata": {
        "id": "vDSifaE-QN-8"
      }
    },
    {
      "cell_type": "markdown",
      "source": [
        "# Loops Ans"
      ],
      "metadata": {
        "id": "pedLH7a0QXxe"
      }
    },
    {
      "cell_type": "code",
      "source": [
        "positions = []\n",
        "\n",
        "for x in [\"A\", \"B\", \"C\", \"D\", \"E\", \"F\", \"G\", \"H\"]:\n",
        "  for y in range(1, 9):\n",
        "    print(x + str(y))\n",
        "    positions.append(x + str(y))\n",
        "\n",
        "print(positions)"
      ],
      "metadata": {
        "colab": {
          "base_uri": "https://localhost:8080/"
        },
        "id": "dlBeAQ7oQZAS",
        "outputId": "f31da931-95e0-48b1-8c0e-49ff28c82da7"
      },
      "execution_count": null,
      "outputs": [
        {
          "output_type": "stream",
          "name": "stdout",
          "text": [
            "A1\n",
            "A2\n",
            "A3\n",
            "A4\n",
            "A5\n",
            "A6\n",
            "A7\n",
            "A8\n",
            "B1\n",
            "B2\n",
            "B3\n",
            "B4\n",
            "B5\n",
            "B6\n",
            "B7\n",
            "B8\n",
            "C1\n",
            "C2\n",
            "C3\n",
            "C4\n",
            "C5\n",
            "C6\n",
            "C7\n",
            "C8\n",
            "D1\n",
            "D2\n",
            "D3\n",
            "D4\n",
            "D5\n",
            "D6\n",
            "D7\n",
            "D8\n",
            "E1\n",
            "E2\n",
            "E3\n",
            "E4\n",
            "E5\n",
            "E6\n",
            "E7\n",
            "E8\n",
            "F1\n",
            "F2\n",
            "F3\n",
            "F4\n",
            "F5\n",
            "F6\n",
            "F7\n",
            "F8\n",
            "G1\n",
            "G2\n",
            "G3\n",
            "G4\n",
            "G5\n",
            "G6\n",
            "G7\n",
            "G8\n",
            "H1\n",
            "H2\n",
            "H3\n",
            "H4\n",
            "H5\n",
            "H6\n",
            "H7\n",
            "H8\n",
            "['A1', 'A2', 'A3', 'A4', 'A5', 'A6', 'A7', 'A8', 'B1', 'B2', 'B3', 'B4', 'B5', 'B6', 'B7', 'B8', 'C1', 'C2', 'C3', 'C4', 'C5', 'C6', 'C7', 'C8', 'D1', 'D2', 'D3', 'D4', 'D5', 'D6', 'D7', 'D8', 'E1', 'E2', 'E3', 'E4', 'E5', 'E6', 'E7', 'E8', 'F1', 'F2', 'F3', 'F4', 'F5', 'F6', 'F7', 'F8', 'G1', 'G2', 'G3', 'G4', 'G5', 'G6', 'G7', 'G8', 'H1', 'H2', 'H3', 'H4', 'H5', 'H6', 'H7', 'H8']\n"
          ]
        }
      ]
    },
    {
      "cell_type": "markdown",
      "source": [
        "A for loop allows lines of codes to run repeatedly"
      ],
      "metadata": {
        "id": "ffN1D26sRGKY"
      }
    },
    {
      "cell_type": "markdown",
      "source": [
        "# Recursion Qn"
      ],
      "metadata": {
        "id": "sUqc4RPaRN61"
      }
    },
    {
      "cell_type": "markdown",
      "source": [
        "You just learnt about factorials in math class and find out that you can use recursion to replicate it.\n",
        "\n",
        "Make a factorial function using recursion to reinforce your learning.\n",
        "\n",
        "The logic is multiplying an integer by the integers before it until 1.\n",
        "\n",
        "(E.g. 3! = 3 x 2 x 1)"
      ],
      "metadata": {
        "id": "gk5w3VEZRRE7"
      }
    },
    {
      "cell_type": "code",
      "source": [
        "# Factorial function\n",
        "\n",
        "\n",
        "# main\n",
        "print(factorial(4)) # returns 24\n",
        "print(factorial(0)) # returns 1\n",
        "print(factorial(1)) # returns 1"
      ],
      "metadata": {
        "id": "Bj40tyqJRTkD"
      },
      "execution_count": null,
      "outputs": []
    },
    {
      "cell_type": "markdown",
      "source": [
        "What is recursion?"
      ],
      "metadata": {
        "id": "bPP8LxuARVTA"
      }
    },
    {
      "cell_type": "markdown",
      "source": [
        "# Recursion Ans"
      ],
      "metadata": {
        "id": "2BMmuBqbRXo9"
      }
    },
    {
      "cell_type": "code",
      "source": [
        "# Factorial function\n",
        "def factorial(num):\n",
        "  if num == 0:\n",
        "    return 1\n",
        "  if num == 1:\n",
        "    return num\n",
        "  return num * factorial(num - 1)\n",
        "\n",
        "# main\n",
        "print(factorial(4)) # returns 24\n",
        "print(factorial(0)) # returns 1\n",
        "print(factorial(1)) # returns 1"
      ],
      "metadata": {
        "colab": {
          "base_uri": "https://localhost:8080/"
        },
        "id": "gyo2BWl7RZXd",
        "outputId": "81b2050e-e02e-44bd-9485-d8eaca2df474"
      },
      "execution_count": null,
      "outputs": [
        {
          "output_type": "stream",
          "name": "stdout",
          "text": [
            "24\n",
            "1\n",
            "1\n"
          ]
        }
      ]
    },
    {
      "cell_type": "markdown",
      "source": [
        "Recursion is when a defined function calls itself"
      ],
      "metadata": {
        "id": "fEJggOQ-R-hl"
      }
    },
    {
      "cell_type": "markdown",
      "source": [
        "# Functions Qn"
      ],
      "metadata": {
        "id": "CtF1NvKuSOHC"
      }
    },
    {
      "cell_type": "markdown",
      "source": [
        "You want to create a number guessing game that contains a function to check if two numbers are the same.\n",
        "\n",
        "Make a function that checks if two numbers are the same."
      ],
      "metadata": {
        "id": "TN2HYTWmSYWe"
      }
    },
    {
      "cell_type": "code",
      "source": [
        "# Compare function\n",
        "\n",
        "# main\n",
        "print(compare(1,1)) # returns True\n",
        "print(compare(1,3)) # returns False"
      ],
      "metadata": {
        "id": "t5NpqHbQSZE5"
      },
      "execution_count": null,
      "outputs": []
    },
    {
      "cell_type": "markdown",
      "source": [
        "What are functions?"
      ],
      "metadata": {
        "id": "CQF-ZpBjSZbX"
      }
    },
    {
      "cell_type": "markdown",
      "source": [
        "# Functions Ans"
      ],
      "metadata": {
        "id": "e1Dwun3jScM6"
      }
    },
    {
      "cell_type": "code",
      "source": [
        "# Compare function\n",
        "def compare(x, y):\n",
        "  return x == y\n",
        "\n",
        "# main\n",
        "print(compare(1,1)) # returns True\n",
        "print(compare(1,3)) # returns False"
      ],
      "metadata": {
        "colab": {
          "base_uri": "https://localhost:8080/"
        },
        "id": "J0KsFUJbSfGo",
        "outputId": "80784ff5-c7f3-4406-a085-85a72898c04d"
      },
      "execution_count": null,
      "outputs": [
        {
          "output_type": "stream",
          "name": "stdout",
          "text": [
            "True\n",
            "False\n"
          ]
        }
      ]
    },
    {
      "cell_type": "markdown",
      "source": [
        "A function is a block of code whihc only runs when it is called"
      ],
      "metadata": {
        "id": "THUeW5B2Sxl9"
      }
    },
    {
      "cell_type": "markdown",
      "source": [
        "# OOP Qn"
      ],
      "metadata": {
        "id": "qdvk8ep_S1Bs"
      }
    },
    {
      "cell_type": "markdown",
      "source": [
        "Create a Building class which contains data for building name, floors and address.\n",
        "\n",
        "Create a School class which inherits data and functions from the Building class, but also has data for CCAs and subjects.\n",
        "\n",
        "You should include basic getters and setters in the classes (e.g. getBuilding_Name)"
      ],
      "metadata": {
        "id": "FTI_yJG0S3Rr"
      }
    },
    {
      "cell_type": "code",
      "source": [
        "# Building Class\n",
        "\n",
        "\n",
        "# School Class\n",
        "\n",
        "\n",
        "# main\n",
        "building = Building(\"ABC Shopping Mall\", 4, \"123 St 32\")\n",
        "print(building.getBuilding_Name()) # returns ABC Shopping Mall\n",
        "print(building.getFloors_Number()) # returns 4\n",
        "print(building.getAddress()) # returns 123 St 32\n",
        "print(building.setBuilding_Name(\"DEF Shopping Mall\")) # returns DEF Shopping Mall\n",
        "print(building.getBuilding_Name()) # returns DEF Shopping Mall\n",
        "school = School(\"ABC School\", 4, \"155 Ave 2\", [\"Tennis\", \"Shooting\", \"Hockey\"], [\"Computing\", \"Chinese Language Literature\"])\n",
        "print(school.getBuilding_Name()) # returns ABC School\n",
        "print(school.getFloors_Number()) # returns 4\n",
        "print(school.getAddress()) # returns 155 Ave 2\n",
        "print(school.getCCAs()) # returns ['Tennis', 'Shooting', 'Hockey']\n",
        "print(school.getSubjects()) # returns ['Computing', 'Chinese Language Literature']\n",
        "print(school.setBuilding_Name(\"DEF School\")) # returns DEF School\n",
        "print(school.getBuilding_Name()) # returns DEF School"
      ],
      "metadata": {
        "id": "3zhij49cS5Vc"
      },
      "execution_count": null,
      "outputs": []
    },
    {
      "cell_type": "markdown",
      "source": [
        "What is the difference between a class and an object?"
      ],
      "metadata": {
        "id": "JXL4Fje2S5kJ"
      }
    },
    {
      "cell_type": "markdown",
      "source": [
        "# OOP Ans"
      ],
      "metadata": {
        "id": "Jm_DPv3sS74K"
      }
    },
    {
      "cell_type": "code",
      "source": [
        "# Building class\n",
        "class Building:\n",
        "  def __init__(self, name, floors, address):\n",
        "    self.name = name\n",
        "    self.floors = floors\n",
        "    self.address = address\n",
        "\n",
        "  def getBuilding_Name(self):\n",
        "    return self.name\n",
        "\n",
        "  def getFloors_Number(self):\n",
        "    return self.floors\n",
        "\n",
        "  def getAddress(self):\n",
        "    return self.address\n",
        "\n",
        "  def setBuilding_Name(self, name):\n",
        "    self.name = name\n",
        "    return self.name\n",
        "\n",
        "# School class\n",
        "class School(Building):\n",
        "  def __init__(self, name, floors, address, ccas, subjects):\n",
        "    super().__init__(name, floors, address)\n",
        "    self.ccas = ccas\n",
        "    self.subjects = subjects\n",
        "\n",
        "  def getCCAs(self):\n",
        "    return self.ccas\n",
        "\n",
        "  def getSubjects(self):\n",
        "    return self.subjects\n",
        "\n",
        "  def setCCAs(self, ccas):\n",
        "    self.ccas = ccas\n",
        "    return self.ccas\n",
        "\n",
        "  def setSubjects(self, subjects):\n",
        "    self.subjects = subjects\n",
        "    return self.ccas\n",
        "\n",
        "# main\n",
        "building = Building(\"ABC Shopping Mall\", 4, \"123 St 32\")\n",
        "print(building.getBuilding_Name()) # returns ABC Shopping Mall\n",
        "print(building.getFloors_Number()) # returns 4\n",
        "print(building.getAddress()) # returns 123 St 32\n",
        "print(building.setBuilding_Name(\"DEF Shopping Mall\")) # returns DEF Shopping Mall\n",
        "print(building.getBuilding_Name()) # returns DEF Shopping Mall\n",
        "school = School(\"ABC School\", 4, \"155 Ave 2\", [\"Tennis\", \"Shooting\", \"Hockey\"], [\"Computing\", \"Chinese Language Literature\"])\n",
        "print(school.getBuilding_Name()) # returns ABC School\n",
        "print(school.getFloors_Number()) # returns 4\n",
        "print(school.getAddress()) # returns 155 Ave 2\n",
        "print(school.getCCAs()) # returns ['Tennis', 'Shooting', 'Hockey']\n",
        "print(school.getSubjects()) # returns ['Computing', 'Chinese Language Literature']\n",
        "print(school.setBuilding_Name(\"DEF School\")) # returns DEF School\n",
        "print(school.getBuilding_Name()) # returns DEF School"
      ],
      "metadata": {
        "colab": {
          "base_uri": "https://localhost:8080/"
        },
        "id": "4hdgUb-hS8tq",
        "outputId": "5b0fcc3b-f076-4a3d-9991-ac84acbc41ae"
      },
      "execution_count": null,
      "outputs": [
        {
          "output_type": "stream",
          "name": "stdout",
          "text": [
            "ABC Shopping Mall\n",
            "4\n",
            "123 St 32\n",
            "DEF Shopping Mall\n",
            "DEF Shopping Mall\n",
            "ABC School\n",
            "4\n",
            "155 Ave 2\n",
            "['Tennis', 'Shooting', 'Hockey']\n",
            "['Computing', 'Chinese Language Literature']\n",
            "DEF School\n",
            "DEF School\n"
          ]
        }
      ]
    },
    {
      "cell_type": "markdown",
      "source": [
        "A class is a a “blueprint” for creating an object while an object is the runtime instantiation of a class."
      ],
      "metadata": {
        "id": "MfRmnprxUoL1"
      }
    },
    {
      "cell_type": "markdown",
      "source": [
        "# CRUD with lists/arrays Qn"
      ],
      "metadata": {
        "id": "NcOniG4LVfm_"
      }
    },
    {
      "cell_type": "markdown",
      "source": [
        "You just entered a new school year and now have some new classmates.\n",
        "\n",
        "Enter your new classmates’ names and remove the old classmates’ names.\n",
        "\n",
        "Then print out the first, third, and last names on the list."
      ],
      "metadata": {
        "id": "XfY4jyrUVkvs"
      }
    },
    {
      "cell_type": "code",
      "source": [
        "classmates = [\"Sarah\", \"Joseph\", \"Mae\", \"Hammond\", \"Lorrelle\"]\n",
        "# new classmates are Kalyn and Marc (Add to the list)\n",
        "\n",
        "\n",
        "# Joseph is now in another class (Remove from the list)\n",
        "\n",
        "\n",
        "# print first, third and last names on the list\n",
        "\n",
        "\n",
        "\n",
        "print(classmates) # ['Sarah', 'Mae', 'Hammond', 'Lorrelle', 'Kalyn', 'Marc']"
      ],
      "metadata": {
        "id": "0q0VOck-VkAk"
      },
      "execution_count": null,
      "outputs": []
    },
    {
      "cell_type": "markdown",
      "source": [
        "What is a python list?"
      ],
      "metadata": {
        "id": "NWtos5_NVkO6"
      }
    },
    {
      "cell_type": "markdown",
      "source": [
        "# CRUD with lists/arrays Ans"
      ],
      "metadata": {
        "id": "o8ITde7vVqgL"
      }
    },
    {
      "cell_type": "code",
      "source": [
        "classmates = [\"Sarah\", \"Joseph\", \"Mae\", \"Hammond\", \"Lorrelle\"]\n",
        "# new classmates are Kalyn and Marc\n",
        "classmates.append(\"Kalyn\")\n",
        "classmates.append(\"Marc\")\n",
        "\n",
        "# Joseph is now in another class\n",
        "classmates.remove(\"Joseph\")\n",
        "\n",
        "# print first, third and last names on the list\n",
        "print(classmates[0]) # Sarah\n",
        "print(classmates[2]) # Hammond\n",
        "print(classmates[-1]) # Marc\n",
        "\n",
        "print(classmates) # ['Sarah', 'Mae', 'Hammond', 'Lorrelle', 'Kalyn', 'Marc']"
      ],
      "metadata": {
        "colab": {
          "base_uri": "https://localhost:8080/"
        },
        "id": "OH-v74bKVs6x",
        "outputId": "ef94cbbc-7842-422c-c6ec-372e0fd78a6e"
      },
      "execution_count": null,
      "outputs": [
        {
          "output_type": "stream",
          "name": "stdout",
          "text": [
            "Sarah\n",
            "Hammond\n",
            "Marc\n",
            "['Sarah', 'Mae', 'Hammond', 'Lorrelle', 'Kalyn', 'Marc']\n"
          ]
        }
      ]
    },
    {
      "cell_type": "markdown",
      "source": [
        "A python list is a data structure that is used to store multiple items into one variable"
      ],
      "metadata": {
        "id": "72TQgdHGW5UP"
      }
    },
    {
      "cell_type": "markdown",
      "source": [
        "# CRUD with dictionary Qn"
      ],
      "metadata": {
        "id": "7ns691nrXDvP"
      }
    },
    {
      "cell_type": "markdown",
      "source": [
        "You recently changed your login credentials for a website you frequently used.\n",
        "\n",
        "You saved the credentials into a python dictionary.\n",
        "\n",
        "Change your username and password in the dictionary and display the values of the new username and password in the dictionary"
      ],
      "metadata": {
        "id": "bjq_THI0XJLe"
      }
    },
    {
      "cell_type": "code",
      "source": [
        "credentials = {\"username\": \"PoliceAlbert\",\n",
        "               \"password\": \"ILoveDonuts143\"}\n",
        "# changed username to Albertsony\n",
        "\n",
        "\n",
        "# changed password to ITotallyLoveDonuts143\n",
        "\n",
        "\n",
        "# main\n",
        "print(credentials[\"username\"]) # returns Albertsony\n",
        "print(credentials[\"password\"]) # returns ITotallyLoveDonuts143"
      ],
      "metadata": {
        "id": "YOMwWVXWXJ67"
      },
      "execution_count": null,
      "outputs": []
    },
    {
      "cell_type": "markdown",
      "source": [
        "How is data stored in a dictionary?"
      ],
      "metadata": {
        "id": "K6jpsXGDXKKe"
      }
    },
    {
      "cell_type": "markdown",
      "source": [
        "# CRUD with dictionary Ans"
      ],
      "metadata": {
        "id": "GXejXDIHXMNM"
      }
    },
    {
      "cell_type": "code",
      "source": [
        "credentials = {\"username\": \"PoliceAlbert\",\n",
        "               \"password\": \"ILoveDonuts143\"}\n",
        "# changed username to Albertsony\n",
        "credentials[\"username\"] = \"Albertsony\"\n",
        "\n",
        "# changed password to ITotallyLoveDonuts143\n",
        "credentials[\"password\"] = \"ITotallyLoveDonuts143\"\n",
        "\n",
        "# main\n",
        "print(credentials[\"username\"]) # returns Albertsony\n",
        "print(credentials[\"password\"]) # returns ITotallyLoveDonuts143"
      ],
      "metadata": {
        "colab": {
          "base_uri": "https://localhost:8080/"
        },
        "id": "dxsDHUkPXOG2",
        "outputId": "e9df55a0-f812-4de9-9e10-a07d8d64988d"
      },
      "execution_count": null,
      "outputs": [
        {
          "output_type": "stream",
          "name": "stdout",
          "text": [
            "Albertsony\n",
            "ITotallyLoveDonuts143\n"
          ]
        }
      ]
    },
    {
      "cell_type": "markdown",
      "source": [
        "Data is stored in key-value pairs in a dictionary"
      ],
      "metadata": {
        "id": "XArdSpK_YF1h"
      }
    },
    {
      "cell_type": "markdown",
      "source": [
        "# File io Qn"
      ],
      "metadata": {
        "id": "-IMF6mi0YIaQ"
      }
    },
    {
      "cell_type": "markdown",
      "source": [
        "Create a file named “subjects.txt”\n",
        "\n",
        "Write your subjects into the file"
      ],
      "metadata": {
        "id": "TjYkMa9ZYKDP"
      }
    },
    {
      "cell_type": "code",
      "source": [],
      "metadata": {
        "id": "cVpzICPZYMpB"
      },
      "execution_count": null,
      "outputs": []
    },
    {
      "cell_type": "markdown",
      "source": [
        "What are the 4 methods when opening a file?"
      ],
      "metadata": {
        "id": "rIrDBBbtYL1c"
      }
    },
    {
      "cell_type": "markdown",
      "source": [
        "# File io Ans"
      ],
      "metadata": {
        "id": "u4d8Aq-pYOq4"
      }
    },
    {
      "cell_type": "code",
      "source": [
        "f = open(\"subjects.txt\", \"x\")\n",
        "with open(\"subjects.txt\", \"w\") as f:\n",
        "  f.write(\"Mathematics\\n\")\n",
        "  f.write(\"General Paper\\n\")\n",
        "  f.write(\"Chemistry\\n\")\n",
        "  f.write(\"Whatever subject\\n\")"
      ],
      "metadata": {
        "id": "FK3kG0VWYQDG"
      },
      "execution_count": null,
      "outputs": []
    },
    {
      "cell_type": "markdown",
      "source": [
        "The 4 methods are read, write, append and create."
      ],
      "metadata": {
        "id": "fq61CbfQY9_B"
      }
    }
  ]
}