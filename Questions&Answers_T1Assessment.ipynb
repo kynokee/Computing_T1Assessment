{
  "nbformat": 4,
  "nbformat_minor": 0,
  "metadata": {
    "colab": {
      "provenance": [],
      "authorship_tag": "ABX9TyOxX4Ly2WWfC/DzMg2a+QIW",
      "include_colab_link": true
    },
    "kernelspec": {
      "name": "python3",
      "display_name": "Python 3"
    },
    "language_info": {
      "name": "python"
    }
  },
  "cells": [
    {
      "cell_type": "markdown",
      "metadata": {
        "id": "view-in-github",
        "colab_type": "text"
      },
      "source": [
        "<a href=\"https://colab.research.google.com/github/kynokee/Computing_T1Assessment/blob/main/Questions%26Answers_T1Assessment.ipynb\" target=\"_parent\"><img src=\"https://colab.research.google.com/assets/colab-badge.svg\" alt=\"Open In Colab\"/></a>"
      ]
    },
    {
      "cell_type": "markdown",
      "source": [
        "# Linear Search Qn"
      ],
      "metadata": {
        "id": "vM29jm0yfO2i"
      }
    },
    {
      "cell_type": "markdown",
      "source": [
        "You are given a dictionary but it is not in alphabetical order.  \n",
        "Your friend wants you to help them find the position of a word in this weird dictionary.  \n",
        "Write a code using linear search to find the word."
      ],
      "metadata": {
        "id": "BoP6yBs4i7uy"
      }
    },
    {
      "cell_type": "code",
      "source": [
        "weird_dictionary = [\"Lollygag\", \"Bibble\", \"Kerfuffle\", \"Dawdle\", \"Whippersnapper\", \"Gobbledygook\"]\n",
        "\n",
        "# linear search function (for loop)\n",
        "\n",
        "# linear search function (while loop)\n",
        "\n",
        "\n",
        "# main\n",
        "print(linear_search(weird_dictionary, \"Bibble\")) # returns 1\n",
        "print(linear_search(weird_dictionary, \"Cattywampus\")) # returns 'Not Found'"
      ],
      "metadata": {
        "id": "XBC_LsBLfrh7"
      },
      "execution_count": null,
      "outputs": []
    },
    {
      "cell_type": "markdown",
      "source": [
        "When should we use/ not use linear search?"
      ],
      "metadata": {
        "id": "9t_pjIdHiqRo"
      }
    },
    {
      "cell_type": "markdown",
      "source": [
        "# Linear Search Ans"
      ],
      "metadata": {
        "id": "vfKxNd26i-A1"
      }
    },
    {
      "cell_type": "code",
      "source": [
        "weird_dictionary = [\"Lollygag\", \"Bibble\", \"Kerfuffle\", \"Dawdle\", \"Whippersnapper\", \"Gobbledygook\"]\n",
        "\n",
        "# linear search function (for loop)\n",
        "def linear_search(A, target):\n",
        "  for i in range(len(A)):\n",
        "    if A[i] == target:\n",
        "      return i\n",
        "  return 'Not found'\n",
        "\n",
        "# linear search function (while loop)\n",
        "def linear_search(A, target):\n",
        "  i = 0\n",
        "  while i < len(A):\n",
        "    if A[i] == target:\n",
        "      return i\n",
        "    i += 1\n",
        "  return 'Not found'\n",
        "\n",
        "# main\n",
        "print(linear_search(weird_dictionary, \"Bibble\")) # returns 1\n",
        "print(linear_search(weird_dictionary, \"Cattywampus\")) # returns 'Not Found'"
      ],
      "metadata": {
        "colab": {
          "base_uri": "https://localhost:8080/"
        },
        "id": "faMyj3X9jArh",
        "outputId": "d2095988-c8e6-4245-e532-182fe94b350c"
      },
      "execution_count": null,
      "outputs": [
        {
          "output_type": "stream",
          "name": "stdout",
          "text": [
            "1\n",
            "Not found\n"
          ]
        }
      ]
    },
    {
      "cell_type": "markdown",
      "source": [
        "Linear search should be used on a small list, or in an unordered list."
      ],
      "metadata": {
        "id": "d13y5J3XjTRa"
      }
    },
    {
      "cell_type": "markdown",
      "source": [
        "# Binary Search Qn"
      ],
      "metadata": {
        "id": "U2mLzGFAjeBC"
      }
    },
    {
      "cell_type": "markdown",
      "source": [
        "You have a large list that contains all your friends’ birthdays and name in the format [birthday, name]  \n",
        "You have one name for each day of the year and your format for birthday is the number of day of the year. (eg. Jan 1 would be the 1st day of the year.)  \n",
        "You want to automate finding their name so you know who to greet.  \n",
        "Find your friend’s name using binary search so you do not need to keep finding the name of a different friend every day."
      ],
      "metadata": {
        "id": "28QTqAkXjg_I"
      }
    },
    {
      "cell_type": "code",
      "source": [
        "# # prompt: generate a list containing [birthday, name] where birthday ranges from 1-365 and name is a random name and each is unique\n",
        "\n",
        "# import random\n",
        "\n",
        "# # Generate a list of random names\n",
        "# names = []\n",
        "# for _ in range(365):\n",
        "#   names.append(''.join(random.choices('abcdefghijklmnopqrstuvwxyz', k=random.randint(5, 10))))\n",
        "\n",
        "# # Generate a list of birthdays\n",
        "# birthdays = list(range(1, 366))\n",
        "\n",
        "# # Combine birthdays and names into a list of [birthday, name] pairs\n",
        "# friends_birthdays = []\n",
        "# for i in range(365):\n",
        "#   friends_birthdays.append([birthdays[i], names[i]])\n",
        "\n",
        "# print(friends_birthdays)"
      ],
      "metadata": {
        "colab": {
          "base_uri": "https://localhost:8080/"
        },
        "id": "_oHO4KWBjf-S",
        "outputId": "96757573-55dc-4521-9410-c3142fa4043c"
      },
      "execution_count": null,
      "outputs": [
        {
          "output_type": "stream",
          "name": "stdout",
          "text": [
            "[[1, 'hgiqcfrx'], [2, 'qdgnjq'], [3, 'ccapqtzz'], [4, 'rkuzghw'], [5, 'rxwoutwg'], [6, 'azymqzdusk'], [7, 'xcpxnwe'], [8, 'fydfxjgh'], [9, 'ywodzi'], [10, 'vmbfasxu'], [11, 'yorml'], [12, 'vsmcthhdo'], [13, 'lambip'], [14, 'kizml'], [15, 'uxqqc'], [16, 'ukvoinpqgz'], [17, 'jiwcp'], [18, 'eqmpjqwx'], [19, 'atyzioaez'], [20, 'tkkfmh'], [21, 'wxpfdkdhjy'], [22, 'jloszqgqsy'], [23, 'spicd'], [24, 'utlhjew'], [25, 'hhkmwiyy'], [26, 'gstmn'], [27, 'ozsrpch'], [28, 'wnrxnvujco'], [29, 'etpgfcwq'], [30, 'reipn'], [31, 'ngpvzmj'], [32, 'tnnxrqx'], [33, 'jnoutwo'], [34, 'gwlvegtmj'], [35, 'vjejao'], [36, 'wgmhwd'], [37, 'mstqmngt'], [38, 'cnabtm'], [39, 'lqfgar'], [40, 'leanvtorl'], [41, 'vrnghwdszs'], [42, 'fjfrmvyi'], [43, 'irnop'], [44, 'unfqqwxg'], [45, 'gkjyawrlx'], [46, 'sdvqb'], [47, 'ikferxlxtz'], [48, 'epoquaag'], [49, 'dlsffbh'], [50, 'pturj'], [51, 'vpguqng'], [52, 'yfpcnghrh'], [53, 'zvjwatwcr'], [54, 'tocot'], [55, 'vnxskntqzw'], [56, 'otfpegcib'], [57, 'qlzoyecqu'], [58, 'jsztvqo'], [59, 'xuqairl'], [60, 'zgvhcips'], [61, 'bftguabgag'], [62, 'pipkqraeqg'], [63, 'bopywrf'], [64, 'ryrcafnh'], [65, 'xcwtvt'], [66, 'aluhatrndb'], [67, 'qgxbyoyjn'], [68, 'ukpiofcly'], [69, 'xtzxemura'], [70, 'sfpyhg'], [71, 'pelfut'], [72, 'nntqy'], [73, 'prmjegucv'], [74, 'jtloeeky'], [75, 'eoghuuupc'], [76, 'yckevpf'], [77, 'kxzxw'], [78, 'kbfdwxsl'], [79, 'rowsl'], [80, 'qzlrxg'], [81, 'iujdeus'], [82, 'dfbpqcty'], [83, 'hhoymv'], [84, 'znrmaaemk'], [85, 'nscnvojxaa'], [86, 'inuvdrpzc'], [87, 'ugzdqbfs'], [88, 'atzpphkbs'], [89, 'ukckxmuzm'], [90, 'aljdwmw'], [91, 'xbbmphreek'], [92, 'bdqlywemya'], [93, 'nskypgqr'], [94, 'khqtryvt'], [95, 'nygpvzbksr'], [96, 'itfelmsgv'], [97, 'ieedns'], [98, 'lhlcec'], [99, 'cirshaiu'], [100, 'vfbnyekb'], [101, 'wujqsywn'], [102, 'thvkqnrl'], [103, 'qzlnphs'], [104, 'tvgogniphn'], [105, 'fdcdzo'], [106, 'heecpun'], [107, 'xyqyy'], [108, 'bbobvwhe'], [109, 'ghmuls'], [110, 'symqljjfo'], [111, 'mkgzmryco'], [112, 'ivpzw'], [113, 'gagiqqeu'], [114, 'oyjnnqwa'], [115, 'fwipy'], [116, 'hvwwsaaol'], [117, 'jvouxcyzw'], [118, 'kkmfitaom'], [119, 'revywzfwn'], [120, 'ourihgkmzz'], [121, 'flnmrvh'], [122, 'pefebhmwzx'], [123, 'gfblnsjg'], [124, 'alrzpcrhb'], [125, 'ygevpbswva'], [126, 'gvjeods'], [127, 'ccvkorbop'], [128, 'fzmguqxk'], [129, 'uomflfspl'], [130, 'qnnpqdj'], [131, 'emfyyivpp'], [132, 'boyyy'], [133, 'amjgm'], [134, 'ozwfjd'], [135, 'puopqgmqrb'], [136, 'jonqcuwbb'], [137, 'etgmig'], [138, 'cclan'], [139, 'nsdncul'], [140, 'dxdbtkaeef'], [141, 'zojin'], [142, 'grcrtixh'], [143, 'zdfsal'], [144, 'puyemwloqs'], [145, 'rslyk'], [146, 'uaflkuj'], [147, 'ijqvox'], [148, 'xiakusklxo'], [149, 'pqayddsfq'], [150, 'pggfewsn'], [151, 'gesqtsiv'], [152, 'huorjkuzs'], [153, 'qirgm'], [154, 'zpkghvhhhc'], [155, 'kgoat'], [156, 'nujaglfzgw'], [157, 'wkawjxta'], [158, 'tqlxvfdbtd'], [159, 'hwwgl'], [160, 'dexkmtjcyb'], [161, 'tpykdz'], [162, 'ezacmgaidx'], [163, 'rdiftpyts'], [164, 'fxrgr'], [165, 'ndmhsdke'], [166, 'pzosx'], [167, 'tnrkii'], [168, 'ofpkolyra'], [169, 'geqovlidw'], [170, 'znhyx'], [171, 'hgrjrq'], [172, 'lqspdxfqyp'], [173, 'vdfekwy'], [174, 'fyygfrcoat'], [175, 'dfdkvx'], [176, 'oekdnm'], [177, 'aoujidls'], [178, 'wwignt'], [179, 'xjydhahfg'], [180, 'oknujyqko'], [181, 'jyjehll'], [182, 'htuxmbxjk'], [183, 'ditit'], [184, 'dvguroh'], [185, 'mszjllldf'], [186, 'llwwze'], [187, 'ldklolg'], [188, 'xbfdrfzdq'], [189, 'ngymkmjzk'], [190, 'purvzffj'], [191, 'vatzbrhhgb'], [192, 'yaozpdwoob'], [193, 'twbxfk'], [194, 'xefhnca'], [195, 'fseagzmyq'], [196, 'rdvkp'], [197, 'hjsauzfo'], [198, 'ulxjx'], [199, 'uynpq'], [200, 'rhamd'], [201, 'ehgzkx'], [202, 'hswbycurkw'], [203, 'tusui'], [204, 'yfvslioy'], [205, 'udkvxbxnkt'], [206, 'ozcksaqf'], [207, 'yjvtad'], [208, 'gjcosxf'], [209, 'uufqgjq'], [210, 'shwwjmxn'], [211, 'wlsokusgy'], [212, 'fnwho'], [213, 'dzrhkwkp'], [214, 'gcdmdtquby'], [215, 'mrupbadu'], [216, 'pqgdvj'], [217, 'zpbwssca'], [218, 'pfdnnoin'], [219, 'iibhejltln'], [220, 'ldkjp'], [221, 'pqczpw'], [222, 'qhqgnf'], [223, 'oequuiqlkl'], [224, 'ktedhltixx'], [225, 'oaevc'], [226, 'enxhgezj'], [227, 'iogimzxlz'], [228, 'jvbcjmezpp'], [229, 'gvzml'], [230, 'okqoxwdmp'], [231, 'vbtiraew'], [232, 'zkmfevfa'], [233, 'zzjqnwvzoe'], [234, 'itgnmaqbrl'], [235, 'dofjjn'], [236, 'ohtmfk'], [237, 'vqdfnl'], [238, 'tbwgbo'], [239, 'fcrcqv'], [240, 'vyjnmkxd'], [241, 'xhopb'], [242, 'tbfnh'], [243, 'qxaahobrqu'], [244, 'rslxbk'], [245, 'ffpsr'], [246, 'lexgpw'], [247, 'jfhqeteqco'], [248, 'sgpzqgvop'], [249, 'atvnh'], [250, 'aqlns'], [251, 'bffutckome'], [252, 'ozymm'], [253, 'fakjcez'], [254, 'cedzikcecd'], [255, 'oiegmbs'], [256, 'eablonmw'], [257, 'fetrdgzy'], [258, 'bqckvifq'], [259, 'llylrpmm'], [260, 'yzpwpmqqqr'], [261, 'feoyj'], [262, 'dheef'], [263, 'gsbpb'], [264, 'ylgcuqn'], [265, 'hzzruxt'], [266, 'agtzn'], [267, 'fadxbc'], [268, 'cwwkoguec'], [269, 'loavth'], [270, 'ckuxpoqwtl'], [271, 'jdcia'], [272, 'etaomopl'], [273, 'jjnknowv'], [274, 'fwyzhupisu'], [275, 'vnsqej'], [276, 'desbsmnim'], [277, 'yovzsylmyf'], [278, 'jmqnn'], [279, 'zlitv'], [280, 'ffeebcieyw'], [281, 'owkxq'], [282, 'zmjbxhdfay'], [283, 'ussna'], [284, 'ivpbze'], [285, 'iogwtvlrwc'], [286, 'vxgutumshl'], [287, 'xrxwxr'], [288, 'xcksuatbig'], [289, 'hxpgtjehv'], [290, 'rmwiqi'], [291, 'pvdiv'], [292, 'jsyceut'], [293, 'dizdbqcm'], [294, 'ainqismtny'], [295, 'tszesgg'], [296, 'xrcpggj'], [297, 'ahazqtit'], [298, 'poomuwkcr'], [299, 'hhnui'], [300, 'motrsmhmsf'], [301, 'brnaj'], [302, 'bxorpfhhnl'], [303, 'qwilfondyl'], [304, 'mvfjk'], [305, 'jiypm'], [306, 'wnckm'], [307, 'hyexj'], [308, 'fveovwdzkb'], [309, 'hafagcifyf'], [310, 'turgnfdice'], [311, 'sjmbq'], [312, 'lclnq'], [313, 'jqrettt'], [314, 'ukidbsn'], [315, 'bpxjwcobja'], [316, 'kyepoflhav'], [317, 'rlicrxdk'], [318, 'vfppwbi'], [319, 'zwlepf'], [320, 'lvaeq'], [321, 'uryeo'], [322, 'ohqje'], [323, 'cniowa'], [324, 'bvubwz'], [325, 'envakjaayx'], [326, 'entcqkkxm'], [327, 'xnttfqio'], [328, 'dzzwnfw'], [329, 'lxczbjroim'], [330, 'yzlszwuo'], [331, 'huqxrxt'], [332, 'nczppoqvq'], [333, 'cvepwdqlar'], [334, 'uekcqbbibq'], [335, 'oacbnmnv'], [336, 'xozcalikqx'], [337, 'fakjabr'], [338, 'djatzcgj'], [339, 'lgnzdum'], [340, 'zepti'], [341, 'wkqvrk'], [342, 'kkhzzc'], [343, 'mrcgsrh'], [344, 'pffenbkhr'], [345, 'hvvvjfjpwb'], [346, 'pnivvvsyo'], [347, 'jdacrnapgu'], [348, 'phfyg'], [349, 'mhwiu'], [350, 'zpfrjlc'], [351, 'znqana'], [352, 'jpdjjwonw'], [353, 'uxstany'], [354, 'jxqvaqf'], [355, 'udeuwz'], [356, 'qtlztag'], [357, 'wjdutf'], [358, 'aslarbas'], [359, 'iblfobkf'], [360, 'jxmyv'], [361, 'hchai'], [362, 'yvodwpk'], [363, 'pfbkkn'], [364, 'isqqby'], [365, 'bleaeyepd']]\n"
          ]
        }
      ]
    },
    {
      "cell_type": "code",
      "source": [
        "friends_birthdays = [[1, 'hgiqcfrx'], [2, 'qdgnjq'], [3, 'ccapqtzz'], [4, 'rkuzghw'], [5, 'rxwoutwg'], [6, 'azymqzdusk'], [7, 'xcpxnwe'], [8, 'fydfxjgh'], [9, 'ywodzi'], [10, 'vmbfasxu'], [11, 'yorml'], [12, 'vsmcthhdo'], [13, 'lambip'], [14, 'kizml'], [15, 'uxqqc'], [16, 'ukvoinpqgz'], [17, 'jiwcp'], [18, 'eqmpjqwx'], [19, 'atyzioaez'], [20, 'tkkfmh'], [21, 'wxpfdkdhjy'], [22, 'jloszqgqsy'], [23, 'spicd'], [24, 'utlhjew'], [25, 'hhkmwiyy'], [26, 'gstmn'], [27, 'ozsrpch'], [28, 'wnrxnvujco'], [29, 'etpgfcwq'], [30, 'reipn'], [31, 'ngpvzmj'], [32, 'tnnxrqx'], [33, 'jnoutwo'], [34, 'gwlvegtmj'], [35, 'vjejao'], [36, 'wgmhwd'], [37, 'mstqmngt'], [38, 'cnabtm'], [39, 'lqfgar'], [40, 'leanvtorl'], [41, 'vrnghwdszs'], [42, 'fjfrmvyi'], [43, 'irnop'], [44, 'unfqqwxg'], [45, 'gkjyawrlx'], [46, 'sdvqb'], [47, 'ikferxlxtz'], [48, 'epoquaag'], [49, 'dlsffbh'], [50, 'pturj'], [51, 'vpguqng'], [52, 'yfpcnghrh'], [53, 'zvjwatwcr'], [54, 'tocot'], [55, 'vnxskntqzw'], [56, 'otfpegcib'], [57, 'qlzoyecqu'], [58, 'jsztvqo'], [59, 'xuqairl'], [60, 'zgvhcips'], [61, 'bftguabgag'], [62, 'pipkqraeqg'], [63, 'bopywrf'], [64, 'ryrcafnh'], [65, 'xcwtvt'], [66, 'aluhatrndb'], [67, 'qgxbyoyjn'], [68, 'ukpiofcly'], [69, 'xtzxemura'], [70, 'sfpyhg'], [71, 'pelfut'], [72, 'nntqy'], [73, 'prmjegucv'], [74, 'jtloeeky'], [75, 'eoghuuupc'], [76, 'yckevpf'], [77, 'kxzxw'], [78, 'kbfdwxsl'], [79, 'rowsl'], [80, 'qzlrxg'], [81, 'iujdeus'], [82, 'dfbpqcty'], [83, 'hhoymv'], [84, 'znrmaaemk'], [85, 'nscnvojxaa'], [86, 'inuvdrpzc'], [87, 'ugzdqbfs'], [88, 'atzpphkbs'], [89, 'ukckxmuzm'], [90, 'aljdwmw'], [91, 'xbbmphreek'], [92, 'bdqlywemya'], [93, 'nskypgqr'], [94, 'khqtryvt'], [95, 'nygpvzbksr'], [96, 'itfelmsgv'], [97, 'ieedns'], [98, 'lhlcec'], [99, 'cirshaiu'], [100, 'vfbnyekb'], [101, 'wujqsywn'], [102, 'thvkqnrl'], [103, 'qzlnphs'], [104, 'tvgogniphn'], [105, 'fdcdzo'], [106, 'heecpun'], [107, 'xyqyy'], [108, 'bbobvwhe'], [109, 'ghmuls'], [110, 'symqljjfo'], [111, 'mkgzmryco'], [112, 'ivpzw'], [113, 'gagiqqeu'], [114, 'oyjnnqwa'], [115, 'fwipy'], [116, 'hvwwsaaol'], [117, 'jvouxcyzw'], [118, 'kkmfitaom'], [119, 'revywzfwn'], [120, 'ourihgkmzz'], [121, 'flnmrvh'], [122, 'pefebhmwzx'], [123, 'gfblnsjg'], [124, 'alrzpcrhb'], [125, 'ygevpbswva'], [126, 'gvjeods'], [127, 'ccvkorbop'], [128, 'fzmguqxk'], [129, 'uomflfspl'], [130, 'qnnpqdj'], [131, 'emfyyivpp'], [132, 'boyyy'], [133, 'amjgm'], [134, 'ozwfjd'], [135, 'puopqgmqrb'], [136, 'jonqcuwbb'], [137, 'etgmig'], [138, 'cclan'], [139, 'nsdncul'], [140, 'dxdbtkaeef'], [141, 'zojin'], [142, 'grcrtixh'], [143, 'zdfsal'], [144, 'puyemwloqs'], [145, 'rslyk'], [146, 'uaflkuj'], [147, 'ijqvox'], [148, 'xiakusklxo'], [149, 'pqayddsfq'], [150, 'pggfewsn'], [151, 'gesqtsiv'], [152, 'huorjkuzs'], [153, 'qirgm'], [154, 'zpkghvhhhc'], [155, 'kgoat'], [156, 'nujaglfzgw'], [157, 'wkawjxta'], [158, 'tqlxvfdbtd'], [159, 'hwwgl'], [160, 'dexkmtjcyb'], [161, 'tpykdz'], [162, 'ezacmgaidx'], [163, 'rdiftpyts'], [164, 'fxrgr'], [165, 'ndmhsdke'], [166, 'pzosx'], [167, 'tnrkii'], [168, 'ofpkolyra'], [169, 'geqovlidw'], [170, 'znhyx'], [171, 'hgrjrq'], [172, 'lqspdxfqyp'], [173, 'vdfekwy'], [174, 'fyygfrcoat'], [175, 'dfdkvx'], [176, 'oekdnm'], [177, 'aoujidls'], [178, 'wwignt'], [179, 'xjydhahfg'], [180, 'oknujyqko'], [181, 'jyjehll'], [182, 'htuxmbxjk'], [183, 'ditit'], [184, 'dvguroh'], [185, 'mszjllldf'], [186, 'llwwze'], [187, 'ldklolg'], [188, 'xbfdrfzdq'], [189, 'ngymkmjzk'], [190, 'purvzffj'], [191, 'vatzbrhhgb'], [192, 'yaozpdwoob'], [193, 'twbxfk'], [194, 'xefhnca'], [195, 'fseagzmyq'], [196, 'rdvkp'], [197, 'hjsauzfo'], [198, 'ulxjx'], [199, 'uynpq'], [200, 'rhamd'], [201, 'ehgzkx'], [202, 'hswbycurkw'], [203, 'tusui'], [204, 'yfvslioy'], [205, 'udkvxbxnkt'], [206, 'ozcksaqf'], [207, 'yjvtad'], [208, 'gjcosxf'], [209, 'uufqgjq'], [210, 'shwwjmxn'], [211, 'wlsokusgy'], [212, 'fnwho'], [213, 'dzrhkwkp'], [214, 'gcdmdtquby'], [215, 'mrupbadu'], [216, 'pqgdvj'], [217, 'zpbwssca'], [218, 'pfdnnoin'], [219, 'iibhejltln'], [220, 'ldkjp'], [221, 'pqczpw'], [222, 'qhqgnf'], [223, 'oequuiqlkl'], [224, 'ktedhltixx'], [225, 'oaevc'], [226, 'enxhgezj'], [227, 'iogimzxlz'], [228, 'jvbcjmezpp'], [229, 'gvzml'], [230, 'okqoxwdmp'], [231, 'vbtiraew'], [232, 'zkmfevfa'], [233, 'zzjqnwvzoe'], [234, 'itgnmaqbrl'], [235, 'dofjjn'], [236, 'ohtmfk'], [237, 'vqdfnl'], [238, 'tbwgbo'], [239, 'fcrcqv'], [240, 'vyjnmkxd'], [241, 'xhopb'], [242, 'tbfnh'], [243, 'qxaahobrqu'], [244, 'rslxbk'], [245, 'ffpsr'], [246, 'lexgpw'], [247, 'jfhqeteqco'], [248, 'sgpzqgvop'], [249, 'atvnh'], [250, 'aqlns'], [251, 'bffutckome'], [252, 'ozymm'], [253, 'fakjcez'], [254, 'cedzikcecd'], [255, 'oiegmbs'], [256, 'eablonmw'], [257, 'fetrdgzy'], [258, 'bqckvifq'], [259, 'llylrpmm'], [260, 'yzpwpmqqqr'], [261, 'feoyj'], [262, 'dheef'], [263, 'gsbpb'], [264, 'ylgcuqn'], [265, 'hzzruxt'], [266, 'agtzn'], [267, 'fadxbc'], [268, 'cwwkoguec'], [269, 'loavth'], [270, 'ckuxpoqwtl'], [271, 'jdcia'], [272, 'etaomopl'], [273, 'jjnknowv'], [274, 'fwyzhupisu'], [275, 'vnsqej'], [276, 'desbsmnim'], [277, 'yovzsylmyf'], [278, 'jmqnn'], [279, 'zlitv'], [280, 'ffeebcieyw'], [281, 'owkxq'], [282, 'zmjbxhdfay'], [283, 'ussna'], [284, 'ivpbze'], [285, 'iogwtvlrwc'], [286, 'vxgutumshl'], [287, 'xrxwxr'], [288, 'xcksuatbig'], [289, 'hxpgtjehv'], [290, 'rmwiqi'], [291, 'pvdiv'], [292, 'jsyceut'], [293, 'dizdbqcm'], [294, 'ainqismtny'], [295, 'tszesgg'], [296, 'xrcpggj'], [297, 'ahazqtit'], [298, 'poomuwkcr'], [299, 'hhnui'], [300, 'motrsmhmsf'], [301, 'brnaj'], [302, 'bxorpfhhnl'], [303, 'qwilfondyl'], [304, 'mvfjk'], [305, 'jiypm'], [306, 'wnckm'], [307, 'hyexj'], [308, 'fveovwdzkb'], [309, 'hafagcifyf'], [310, 'turgnfdice'], [311, 'sjmbq'], [312, 'lclnq'], [313, 'jqrettt'], [314, 'ukidbsn'], [315, 'bpxjwcobja'], [316, 'kyepoflhav'], [317, 'rlicrxdk'], [318, 'vfppwbi'], [319, 'zwlepf'], [320, 'lvaeq'], [321, 'uryeo'], [322, 'ohqje'], [323, 'cniowa'], [324, 'bvubwz'], [325, 'envakjaayx'], [326, 'entcqkkxm'], [327, 'xnttfqio'], [328, 'dzzwnfw'], [329, 'lxczbjroim'], [330, 'yzlszwuo'], [331, 'huqxrxt'], [332, 'nczppoqvq'], [333, 'cvepwdqlar'], [334, 'uekcqbbibq'], [335, 'oacbnmnv'], [336, 'xozcalikqx'], [337, 'fakjabr'], [338, 'djatzcgj'], [339, 'lgnzdum'], [340, 'zepti'], [341, 'wkqvrk'], [342, 'kkhzzc'], [343, 'mrcgsrh'], [344, 'pffenbkhr'], [345, 'hvvvjfjpwb'], [346, 'pnivvvsyo'], [347, 'jdacrnapgu'], [348, 'phfyg'], [349, 'mhwiu'], [350, 'zpfrjlc'], [351, 'znqana'], [352, 'jpdjjwonw'], [353, 'uxstany'], [354, 'jxqvaqf'], [355, 'udeuwz'], [356, 'qtlztag'], [357, 'wjdutf'], [358, 'aslarbas'], [359, 'iblfobkf'], [360, 'jxmyv'], [361, 'hchai'], [362, 'yvodwpk'], [363, 'pfbkkn'], [364, 'isqqby'], [365, 'bleaeyepd']]\n",
        "# binary search\n",
        "\n",
        "\n",
        "# main\n",
        "print(binary_search(friends_birthdays, 156)) # returns 'nujaglfzgw'"
      ],
      "metadata": {
        "id": "gXsXHpyay1CQ"
      },
      "execution_count": null,
      "outputs": []
    },
    {
      "cell_type": "markdown",
      "source": [
        "In what case should we use/ not use binary search."
      ],
      "metadata": {
        "id": "MXMrBp9fjhVz"
      }
    },
    {
      "cell_type": "markdown",
      "source": [
        "# Binary Search Ans"
      ],
      "metadata": {
        "id": "P7dBr-FQzm7x"
      }
    },
    {
      "cell_type": "code",
      "source": [
        "friends_birthdays = [[1, 'hgiqcfrx'], [2, 'qdgnjq'], [3, 'ccapqtzz'], [4, 'rkuzghw'], [5, 'rxwoutwg'], [6, 'azymqzdusk'], [7, 'xcpxnwe'], [8, 'fydfxjgh'], [9, 'ywodzi'], [10, 'vmbfasxu'], [11, 'yorml'], [12, 'vsmcthhdo'], [13, 'lambip'], [14, 'kizml'], [15, 'uxqqc'], [16, 'ukvoinpqgz'], [17, 'jiwcp'], [18, 'eqmpjqwx'], [19, 'atyzioaez'], [20, 'tkkfmh'], [21, 'wxpfdkdhjy'], [22, 'jloszqgqsy'], [23, 'spicd'], [24, 'utlhjew'], [25, 'hhkmwiyy'], [26, 'gstmn'], [27, 'ozsrpch'], [28, 'wnrxnvujco'], [29, 'etpgfcwq'], [30, 'reipn'], [31, 'ngpvzmj'], [32, 'tnnxrqx'], [33, 'jnoutwo'], [34, 'gwlvegtmj'], [35, 'vjejao'], [36, 'wgmhwd'], [37, 'mstqmngt'], [38, 'cnabtm'], [39, 'lqfgar'], [40, 'leanvtorl'], [41, 'vrnghwdszs'], [42, 'fjfrmvyi'], [43, 'irnop'], [44, 'unfqqwxg'], [45, 'gkjyawrlx'], [46, 'sdvqb'], [47, 'ikferxlxtz'], [48, 'epoquaag'], [49, 'dlsffbh'], [50, 'pturj'], [51, 'vpguqng'], [52, 'yfpcnghrh'], [53, 'zvjwatwcr'], [54, 'tocot'], [55, 'vnxskntqzw'], [56, 'otfpegcib'], [57, 'qlzoyecqu'], [58, 'jsztvqo'], [59, 'xuqairl'], [60, 'zgvhcips'], [61, 'bftguabgag'], [62, 'pipkqraeqg'], [63, 'bopywrf'], [64, 'ryrcafnh'], [65, 'xcwtvt'], [66, 'aluhatrndb'], [67, 'qgxbyoyjn'], [68, 'ukpiofcly'], [69, 'xtzxemura'], [70, 'sfpyhg'], [71, 'pelfut'], [72, 'nntqy'], [73, 'prmjegucv'], [74, 'jtloeeky'], [75, 'eoghuuupc'], [76, 'yckevpf'], [77, 'kxzxw'], [78, 'kbfdwxsl'], [79, 'rowsl'], [80, 'qzlrxg'], [81, 'iujdeus'], [82, 'dfbpqcty'], [83, 'hhoymv'], [84, 'znrmaaemk'], [85, 'nscnvojxaa'], [86, 'inuvdrpzc'], [87, 'ugzdqbfs'], [88, 'atzpphkbs'], [89, 'ukckxmuzm'], [90, 'aljdwmw'], [91, 'xbbmphreek'], [92, 'bdqlywemya'], [93, 'nskypgqr'], [94, 'khqtryvt'], [95, 'nygpvzbksr'], [96, 'itfelmsgv'], [97, 'ieedns'], [98, 'lhlcec'], [99, 'cirshaiu'], [100, 'vfbnyekb'], [101, 'wujqsywn'], [102, 'thvkqnrl'], [103, 'qzlnphs'], [104, 'tvgogniphn'], [105, 'fdcdzo'], [106, 'heecpun'], [107, 'xyqyy'], [108, 'bbobvwhe'], [109, 'ghmuls'], [110, 'symqljjfo'], [111, 'mkgzmryco'], [112, 'ivpzw'], [113, 'gagiqqeu'], [114, 'oyjnnqwa'], [115, 'fwipy'], [116, 'hvwwsaaol'], [117, 'jvouxcyzw'], [118, 'kkmfitaom'], [119, 'revywzfwn'], [120, 'ourihgkmzz'], [121, 'flnmrvh'], [122, 'pefebhmwzx'], [123, 'gfblnsjg'], [124, 'alrzpcrhb'], [125, 'ygevpbswva'], [126, 'gvjeods'], [127, 'ccvkorbop'], [128, 'fzmguqxk'], [129, 'uomflfspl'], [130, 'qnnpqdj'], [131, 'emfyyivpp'], [132, 'boyyy'], [133, 'amjgm'], [134, 'ozwfjd'], [135, 'puopqgmqrb'], [136, 'jonqcuwbb'], [137, 'etgmig'], [138, 'cclan'], [139, 'nsdncul'], [140, 'dxdbtkaeef'], [141, 'zojin'], [142, 'grcrtixh'], [143, 'zdfsal'], [144, 'puyemwloqs'], [145, 'rslyk'], [146, 'uaflkuj'], [147, 'ijqvox'], [148, 'xiakusklxo'], [149, 'pqayddsfq'], [150, 'pggfewsn'], [151, 'gesqtsiv'], [152, 'huorjkuzs'], [153, 'qirgm'], [154, 'zpkghvhhhc'], [155, 'kgoat'], [156, 'nujaglfzgw'], [157, 'wkawjxta'], [158, 'tqlxvfdbtd'], [159, 'hwwgl'], [160, 'dexkmtjcyb'], [161, 'tpykdz'], [162, 'ezacmgaidx'], [163, 'rdiftpyts'], [164, 'fxrgr'], [165, 'ndmhsdke'], [166, 'pzosx'], [167, 'tnrkii'], [168, 'ofpkolyra'], [169, 'geqovlidw'], [170, 'znhyx'], [171, 'hgrjrq'], [172, 'lqspdxfqyp'], [173, 'vdfekwy'], [174, 'fyygfrcoat'], [175, 'dfdkvx'], [176, 'oekdnm'], [177, 'aoujidls'], [178, 'wwignt'], [179, 'xjydhahfg'], [180, 'oknujyqko'], [181, 'jyjehll'], [182, 'htuxmbxjk'], [183, 'ditit'], [184, 'dvguroh'], [185, 'mszjllldf'], [186, 'llwwze'], [187, 'ldklolg'], [188, 'xbfdrfzdq'], [189, 'ngymkmjzk'], [190, 'purvzffj'], [191, 'vatzbrhhgb'], [192, 'yaozpdwoob'], [193, 'twbxfk'], [194, 'xefhnca'], [195, 'fseagzmyq'], [196, 'rdvkp'], [197, 'hjsauzfo'], [198, 'ulxjx'], [199, 'uynpq'], [200, 'rhamd'], [201, 'ehgzkx'], [202, 'hswbycurkw'], [203, 'tusui'], [204, 'yfvslioy'], [205, 'udkvxbxnkt'], [206, 'ozcksaqf'], [207, 'yjvtad'], [208, 'gjcosxf'], [209, 'uufqgjq'], [210, 'shwwjmxn'], [211, 'wlsokusgy'], [212, 'fnwho'], [213, 'dzrhkwkp'], [214, 'gcdmdtquby'], [215, 'mrupbadu'], [216, 'pqgdvj'], [217, 'zpbwssca'], [218, 'pfdnnoin'], [219, 'iibhejltln'], [220, 'ldkjp'], [221, 'pqczpw'], [222, 'qhqgnf'], [223, 'oequuiqlkl'], [224, 'ktedhltixx'], [225, 'oaevc'], [226, 'enxhgezj'], [227, 'iogimzxlz'], [228, 'jvbcjmezpp'], [229, 'gvzml'], [230, 'okqoxwdmp'], [231, 'vbtiraew'], [232, 'zkmfevfa'], [233, 'zzjqnwvzoe'], [234, 'itgnmaqbrl'], [235, 'dofjjn'], [236, 'ohtmfk'], [237, 'vqdfnl'], [238, 'tbwgbo'], [239, 'fcrcqv'], [240, 'vyjnmkxd'], [241, 'xhopb'], [242, 'tbfnh'], [243, 'qxaahobrqu'], [244, 'rslxbk'], [245, 'ffpsr'], [246, 'lexgpw'], [247, 'jfhqeteqco'], [248, 'sgpzqgvop'], [249, 'atvnh'], [250, 'aqlns'], [251, 'bffutckome'], [252, 'ozymm'], [253, 'fakjcez'], [254, 'cedzikcecd'], [255, 'oiegmbs'], [256, 'eablonmw'], [257, 'fetrdgzy'], [258, 'bqckvifq'], [259, 'llylrpmm'], [260, 'yzpwpmqqqr'], [261, 'feoyj'], [262, 'dheef'], [263, 'gsbpb'], [264, 'ylgcuqn'], [265, 'hzzruxt'], [266, 'agtzn'], [267, 'fadxbc'], [268, 'cwwkoguec'], [269, 'loavth'], [270, 'ckuxpoqwtl'], [271, 'jdcia'], [272, 'etaomopl'], [273, 'jjnknowv'], [274, 'fwyzhupisu'], [275, 'vnsqej'], [276, 'desbsmnim'], [277, 'yovzsylmyf'], [278, 'jmqnn'], [279, 'zlitv'], [280, 'ffeebcieyw'], [281, 'owkxq'], [282, 'zmjbxhdfay'], [283, 'ussna'], [284, 'ivpbze'], [285, 'iogwtvlrwc'], [286, 'vxgutumshl'], [287, 'xrxwxr'], [288, 'xcksuatbig'], [289, 'hxpgtjehv'], [290, 'rmwiqi'], [291, 'pvdiv'], [292, 'jsyceut'], [293, 'dizdbqcm'], [294, 'ainqismtny'], [295, 'tszesgg'], [296, 'xrcpggj'], [297, 'ahazqtit'], [298, 'poomuwkcr'], [299, 'hhnui'], [300, 'motrsmhmsf'], [301, 'brnaj'], [302, 'bxorpfhhnl'], [303, 'qwilfondyl'], [304, 'mvfjk'], [305, 'jiypm'], [306, 'wnckm'], [307, 'hyexj'], [308, 'fveovwdzkb'], [309, 'hafagcifyf'], [310, 'turgnfdice'], [311, 'sjmbq'], [312, 'lclnq'], [313, 'jqrettt'], [314, 'ukidbsn'], [315, 'bpxjwcobja'], [316, 'kyepoflhav'], [317, 'rlicrxdk'], [318, 'vfppwbi'], [319, 'zwlepf'], [320, 'lvaeq'], [321, 'uryeo'], [322, 'ohqje'], [323, 'cniowa'], [324, 'bvubwz'], [325, 'envakjaayx'], [326, 'entcqkkxm'], [327, 'xnttfqio'], [328, 'dzzwnfw'], [329, 'lxczbjroim'], [330, 'yzlszwuo'], [331, 'huqxrxt'], [332, 'nczppoqvq'], [333, 'cvepwdqlar'], [334, 'uekcqbbibq'], [335, 'oacbnmnv'], [336, 'xozcalikqx'], [337, 'fakjabr'], [338, 'djatzcgj'], [339, 'lgnzdum'], [340, 'zepti'], [341, 'wkqvrk'], [342, 'kkhzzc'], [343, 'mrcgsrh'], [344, 'pffenbkhr'], [345, 'hvvvjfjpwb'], [346, 'pnivvvsyo'], [347, 'jdacrnapgu'], [348, 'phfyg'], [349, 'mhwiu'], [350, 'zpfrjlc'], [351, 'znqana'], [352, 'jpdjjwonw'], [353, 'uxstany'], [354, 'jxqvaqf'], [355, 'udeuwz'], [356, 'qtlztag'], [357, 'wjdutf'], [358, 'aslarbas'], [359, 'iblfobkf'], [360, 'jxmyv'], [361, 'hchai'], [362, 'yvodwpk'], [363, 'pfbkkn'], [364, 'isqqby'], [365, 'bleaeyepd']]\n",
        "# binary search\n",
        "def binary_search(A, target):\n",
        "  low = 0\n",
        "  high = len(A) - 1\n",
        "  while low <= high:\n",
        "    mid = (low + high) // 2\n",
        "    if A[mid][0] == target:\n",
        "      return A[mid][1]\n",
        "    elif A[mid][0] > target:\n",
        "      high = mid - 1\n",
        "    else:\n",
        "      low = mid + 1\n",
        "  return 'Not Found'\n",
        "\n",
        "# main\n",
        "print(binary_search(friends_birthdays, 156)) # returns 'nujaglfzgw'\n",
        "print(binary_search(friends_birthdays, 366)) # returns Not Found"
      ],
      "metadata": {
        "colab": {
          "base_uri": "https://localhost:8080/"
        },
        "id": "hrIXnSQ6zpF0",
        "outputId": "5745edb1-2c5d-470b-d998-3455c74ef673"
      },
      "execution_count": null,
      "outputs": [
        {
          "output_type": "stream",
          "name": "stdout",
          "text": [
            "nujaglfzgw\n",
            "Not Found\n"
          ]
        }
      ]
    },
    {
      "cell_type": "markdown",
      "source": [
        "We should use binary search algorithm to find a value in a large sorted sequence."
      ],
      "metadata": {
        "id": "9QTtqkkZ2gb_"
      }
    },
    {
      "cell_type": "markdown",
      "source": [
        "# Bubble Sort Qn"
      ],
      "metadata": {
        "id": "25Po2JfkqtIG"
      }
    },
    {
      "cell_type": "markdown",
      "source": [
        "After receiving your mid-year results, you want to find out which subject you need to work on the most  \n",
        "Use bubble sort to sort the scores of your tests and state your 2 weakest subjects"
      ],
      "metadata": {
        "id": "bfQPt5YDqvmp"
      }
    },
    {
      "cell_type": "code",
      "source": [
        "# scores and subjects are in order (eg. Mathematics score is 90, Chemistry score is 65)\n",
        "unordered_test_results = [90, 65, 74, 80, 30, 45, 67]\n",
        "subjects = [\"Mathematics\", \"Chemistry\", \"Physics\", \"Biology\", \"English\", \"Social Studies\", \"History\"]\n",
        "\n",
        "# bubble sort\n",
        "\n",
        "\n",
        "# main\n",
        "ordered_test_results = bubble_sort(unordered_test_results)\n",
        "print(ordered_test_results) # return [30, 45, 65, 67, 74, 80, 90]\n",
        "\n",
        "# print 2 weakest subjects\n",
        "test_results = [90, 65, 74, 80, 30, 45, 67]\n",
        "weakest_subjects = []\n",
        "\n",
        "\n",
        "print(weakest_subjects) # return [\"English\", \"Social Studies\"]"
      ],
      "metadata": {
        "id": "it9NK9U2qvHa"
      },
      "execution_count": null,
      "outputs": []
    },
    {
      "cell_type": "markdown",
      "source": [
        "Explain how bubble sort algorithm works"
      ],
      "metadata": {
        "id": "Kc8Kn6zQqv8F"
      }
    },
    {
      "cell_type": "markdown",
      "source": [
        "# Bubble Sort Ans"
      ],
      "metadata": {
        "id": "X0mpkBD6qwc3"
      }
    },
    {
      "cell_type": "code",
      "source": [
        "# scores and subjects are in order (eg. Mathematics score is 90, Chemistry score is 65)\n",
        "test_results = [90, 65, 74, 80, 30, 45, 67]\n",
        "subjects = [\"Mathematics\", \"Chemistry\", \"Physics\", \"Biology\", \"English\", \"Social Studies\", \"History\"]\n",
        "\n",
        "# bubble sort\n",
        "def bubble_sort(A):\n",
        "  for i in range(len(A)):\n",
        "    for j in range(len(A) - 1):\n",
        "      if A[j] > A[j + 1]:\n",
        "        A[j], A[j+1] = A[j+1], A[j]\n",
        "  return A\n",
        "\n",
        "# main\n",
        "ordered_test_results = bubble_sort(test_results)\n",
        "print(ordered_test_results) # return [30, 45, 65, 67, 74, 80, 90]\n",
        "\n",
        "# print 2 weakest subjects\n",
        "test_results = [90, 65, 74, 80, 30, 45, 67]\n",
        "weakest_subjects = []\n",
        "scores_of_weakest = ordered_test_results[0:2]\n",
        "\n",
        "for score in scores_of_weakest:\n",
        "  position = 0\n",
        "  for result in test_results:\n",
        "    if score == result:\n",
        "      weakest_subjects.append(subjects[position])\n",
        "    position += 1\n",
        "\n",
        "print(weakest_subjects) # return [\"English\", \"Social Studies\"]\n",
        "\n",
        "# Alternatively, use linear search/ binary search since list is ordered"
      ],
      "metadata": {
        "colab": {
          "base_uri": "https://localhost:8080/"
        },
        "id": "WO2f0flNqzNh",
        "outputId": "c4238940-4c43-4cec-b3e1-f74c865886e0"
      },
      "execution_count": 15,
      "outputs": [
        {
          "output_type": "stream",
          "name": "stdout",
          "text": [
            "[30, 45, 65, 67, 74, 80, 90]\n",
            "['English', 'Social Studies']\n"
          ]
        }
      ]
    },
    {
      "cell_type": "markdown",
      "source": [
        "The bubble sort algorithm works by comparing each element in an array with the element next to it. If the element is greater than the next element, then the two elements are swapped. This process is repeated until the entire array is sorted."
      ],
      "metadata": {
        "id": "xABkXPLzqzz2"
      }
    },
    {
      "cell_type": "markdown",
      "source": [
        "# Insertion Sort Qn"
      ],
      "metadata": {
        "id": "_b0SQpOdxWsv"
      }
    },
    {
      "cell_type": "markdown",
      "source": [
        "You and your friends are planning to make an uno-like card video game  \n",
        "They want to implement a sorting algorithm so players have an easier time looking at their deck of cards  \n",
        "Use insertion sort to sort a random deck of cards"
      ],
      "metadata": {
        "id": "3zfORnr0zaWi"
      }
    },
    {
      "cell_type": "code",
      "source": [
        "from random import randint\n",
        "\n",
        "deck = []\n",
        "for i in range(8):\n",
        "  deck.append(randint(0,9))\n",
        "\n",
        "print(deck)"
      ],
      "metadata": {
        "colab": {
          "base_uri": "https://localhost:8080/"
        },
        "id": "L9bP5FF3zr8M",
        "outputId": "10058c7a-a7a1-4b2a-9637-83df854426e4"
      },
      "execution_count": 18,
      "outputs": [
        {
          "output_type": "stream",
          "name": "stdout",
          "text": [
            "[5, 6, 9, 0, 5, 0, 0, 9]\n"
          ]
        }
      ]
    },
    {
      "cell_type": "code",
      "source": [
        "# insertion sort\n",
        "\n",
        "\n",
        "# main\n",
        "print(insertion_sort(deck)) # should return sorted deck"
      ],
      "metadata": {
        "id": "k9FPa7Bh0DoN"
      },
      "execution_count": null,
      "outputs": []
    },
    {
      "cell_type": "markdown",
      "source": [
        "Explain how insertion sort works"
      ],
      "metadata": {
        "id": "7OT4ldi_0jtX"
      }
    },
    {
      "cell_type": "markdown",
      "source": [
        "# Insertion Sort Ans"
      ],
      "metadata": {
        "id": "gFZcJ70i0nsX"
      }
    },
    {
      "cell_type": "code",
      "source": [
        "# insertion sort\n",
        "def insertion_sort(A):\n",
        "  for i in range(1, len(A)):\n",
        "    key = A[i]\n",
        "    j = i - 1\n",
        "    while j >= 0 and A[j] > key:\n",
        "      A[j+1] = A[j]\n",
        "      j -= 1\n",
        "    A[j+1] = key\n",
        "  return A\n",
        "\n",
        "# main\n",
        "print(insertion_sort(deck)) # should return sorted deck"
      ],
      "metadata": {
        "colab": {
          "base_uri": "https://localhost:8080/"
        },
        "id": "-ivxQXAz0pc8",
        "outputId": "98978a37-b065-495c-9c19-fef7b5d3f60b"
      },
      "execution_count": 19,
      "outputs": [
        {
          "output_type": "stream",
          "name": "stdout",
          "text": [
            "[0, 0, 0, 5, 5, 6, 9, 9]\n"
          ]
        }
      ]
    },
    {
      "cell_type": "markdown",
      "source": [
        "An insertion sort compares values in turn, starting with the second value in the list. If this value is greater than the value to the left of it, no changes are made. Otherwise this value is repeatedly moved left until it meets a value that is less than it. The sort process then starts again with the next value."
      ],
      "metadata": {
        "id": "Q2QZhbED0w3y"
      }
    }
  ]
}